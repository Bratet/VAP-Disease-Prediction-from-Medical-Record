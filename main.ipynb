{
 "cells": [
  {
   "cell_type": "code",
   "execution_count": 1,
   "metadata": {},
   "outputs": [],
   "source": [
    "import warnings\n",
    "\n",
    "warnings.filterwarnings('ignore')"
   ]
  },
  {
   "cell_type": "code",
   "execution_count": 2,
   "metadata": {},
   "outputs": [],
   "source": [
    "import pandas as pd\n",
    "import re\n",
    "import matplotlib.pyplot as plt\n",
    "import seaborn as sns\n",
    "from tqdm import tqdm\n",
    "from sklearn.model_selection import train_test_split\n",
    "from sklearn.metrics import accuracy_score, f1_score, classification_report, roc_auc_score, confusion_matrix\n",
    "import numpy as np\n",
    "import torch\n",
    "import torch.nn as nn\n",
    "import torch.nn.functional as F\n",
    "from torch.utils.data import Dataset, DataLoader, TensorDataset\n",
    "import torch.optim as optim\n",
    "from torch.nn.utils.rnn import pad_sequence\n",
    "import math\n",
    "from pprint import pprint\n",
    "from collections import Counter\n",
    "\n",
    "from sklearn.utils.class_weight import compute_class_weight\n",
    "\n",
    "tqdm.pandas()"
   ]
  },
  {
   "cell_type": "code",
   "execution_count": 3,
   "metadata": {},
   "outputs": [],
   "source": [
    "data = pd.read_csv('data.csv')"
   ]
  },
  {
   "cell_type": "code",
   "execution_count": 4,
   "metadata": {},
   "outputs": [
    {
     "name": "stderr",
     "output_type": "stream",
     "text": [
      "100%|██████████| 3435/3435 [00:00<00:00, 20027.54it/s]\n"
     ]
    }
   ],
   "source": [
    "data_0 = data[data['VAP'] == 0]\n",
    "data_1 = data[data['VAP'] == 1]\n",
    "\n",
    "# Count word frequencies in each class\n",
    "counter_0 = Counter(word for text in data_0['TEXT'] for word in text.split())\n",
    "counter_1 = Counter(word for text in data_1['TEXT'] for word in text.split())\n",
    "\n",
    "# Find words that are common to both classes\n",
    "common_words = set(counter_0.keys()).intersection(counter_1.keys())\n",
    "\n",
    "# Set the threshold for word removal\n",
    "threshold = 0.2\n",
    "\n",
    "# Determine words to remove based on their frequency ratio\n",
    "words_to_remove = {\n",
    "    word for word in common_words\n",
    "    if 1 - threshold <= (counter_1[word] / data_1.shape[0]) / (counter_0[word] / data_0.shape[0]) <= 1 + threshold\n",
    "}\n",
    "\n",
    "# Function to remove selected words\n",
    "def remove_selected_words(text):\n",
    "    return ' '.join(word for word in text.split() if word not in words_to_remove)\n",
    "\n",
    "# Apply the function to the 'TEXT' column\n",
    "data['TEXT'] = data['TEXT'].progress_apply(remove_selected_words)"
   ]
  },
  {
   "cell_type": "code",
   "execution_count": 5,
   "metadata": {},
   "outputs": [],
   "source": [
    "# remove rows with empty text\n",
    "data = data[data['TEXT'] != '']\n",
    "\n",
    "# reindex the DataFrame\n",
    "data = data.reset_index(drop=True)"
   ]
  },
  {
   "cell_type": "code",
   "execution_count": 6,
   "metadata": {},
   "outputs": [
    {
     "data": {
      "text/plain": [
       "<Axes: ylabel='count'>"
      ]
     },
     "execution_count": 6,
     "metadata": {},
     "output_type": "execute_result"
    },
    {
     "data": {
      "image/png": "[encoded data removed]",
      "text/plain": [
       "<Figure size 640x480 with 1 Axes>"
      ]
     },
     "metadata": {},
     "output_type": "display_data"
    }
   ],
   "source": [
    "# # create a new dataframe that contains as much data from each class as the number of rows in the class with the least rows\n",
    "# data_balanced = pd.concat([data[data['VAP'] == 0].sample(data[data['VAP'] == 1].shape[0], random_state=42), data[data['VAP'] == 1]])\n",
    "# data = data_balanced\n",
    "# pie chart of Label\n",
    "data['VAP'].value_counts().plot.pie(autopct='%1.1f%%')"
   ]
  },
  {
   "cell_type": "code",
   "execution_count": 7,
   "metadata": {},
   "outputs": [
    {
     "name": "stdout",
     "output_type": "stream",
     "text": [
      "Average words per text: 303.671615720524\n",
      "Average words per text class 0: 299.06604784005714\n",
      "Average words per text class 1: 324.01892744479494\n"
     ]
    }
   ],
   "source": [
    "average_words_per_text = data['TEXT'].apply(lambda text: len(text.split())).mean()\n",
    "print(f'Average words per text: {average_words_per_text}')\n",
    "\n",
    "# averge words per text class 0\n",
    "average_words_per_text_class_0 = data[data['VAP'] == 0]['TEXT'].apply(lambda text: len(text.split())).mean()\n",
    "print(f'Average words per text class 0: {average_words_per_text_class_0}')\n",
    "\n",
    "# averge words per text class 1\n",
    "average_words_per_text_class_1 = data[data['VAP'] == 1]['TEXT'].apply(lambda text: len(text.split())).mean()\n",
    "print(f'Average words per text class 1: {average_words_per_text_class_1}')"
   ]
  },
  {
   "cell_type": "code",
   "execution_count": 8,
   "metadata": {},
   "outputs": [],
   "source": [
    "chunk_size = 1\n",
    "max_chunks = 350"
   ]
  },
  {
   "cell_type": "code",
   "execution_count": 9,
   "metadata": {},
   "outputs": [
    {
     "name": "stderr",
     "output_type": "stream",
     "text": [
      "100%|██████████| 3435/3435 [00:03<00:00, 880.76it/s]\n"
     ]
    }
   ],
   "source": [
    "import gensim\n",
    "\n",
    "# creating a matrix of word embeddings using the cleaned data and the BioWordVec model\n",
    "embedding_model = gensim.models.KeyedVectors.load_word2vec_format(\"bio.bin\", binary=True)\n",
    "embed_dim = embedding_model.vector_size\n",
    "\n",
    "def split_into_chunks(text, chunk_size=200):\n",
    "    words = text.split()\n",
    "    return [' '.join(words[i:i+chunk_size]) for i in range(0, len(words), chunk_size)]\n",
    "\n",
    "def average_embeddings_for_chunk(chunk, embedding_model):\n",
    "    embeddings = []\n",
    "    for word in chunk.split():\n",
    "        try:\n",
    "            embeddings.append(embedding_model[word])\n",
    "        except KeyError:\n",
    "            \n",
    "            pass\n",
    "    if embeddings:\n",
    "        return np.mean(embeddings, axis=0)\n",
    "    else:\n",
    "        return np.zeros(embedding_model.vector_size)  # Return zero vector if no words found\n",
    "\n",
    "def process_text(text, embedding_model, chunk_size=200, max_chunks=256):\n",
    "    chunks = split_into_chunks(text, chunk_size)\n",
    "    chunk_embeddings = [average_embeddings_for_chunk(chunk, embedding_model) for chunk in chunks[:max_chunks]]\n",
    "    # Pad with zeros if there are fewer chunks than max_chunks\n",
    "    while len(chunk_embeddings) < max_chunks:\n",
    "        chunk_embeddings.append(np.zeros(embedding_model.vector_size))\n",
    "    return chunk_embeddings\n",
    "\n",
    "# Apply the processing to each row in the DataFrame\n",
    "chunks_of_embeddings = data['TEXT'].progress_apply(lambda text: process_text(text, embedding_model, chunk_size, max_chunks)).tolist()"
   ]
  },
  {
   "cell_type": "code",
   "execution_count": 10,
   "metadata": {},
   "outputs": [],
   "source": [
    "# split the data into train and validation sets\n",
    "X_train, X_val, y_train, y_val = train_test_split(chunks_of_embeddings, data['VAP'], test_size=0.3, random_state=42, stratify=data['VAP'])\n",
    "X_val, X_test, y_val, y_test = train_test_split(X_val, y_val, test_size=0.5, random_state=42, stratify=y_val)"
   ]
  },
  {
   "cell_type": "code",
   "execution_count": 11,
   "metadata": {},
   "outputs": [],
   "source": [
    "# Function to convert embeddings and labels to tensors\n",
    "def embeddings_to_tensor(embeddings):\n",
    "    return torch.tensor(embeddings, dtype=torch.float32)\n",
    "\n",
    "# Convert embeddings and labels to tensors\n",
    "X_train_tensor = embeddings_to_tensor(X_train)\n",
    "X_val_tensor = embeddings_to_tensor(X_val)\n",
    "X_test_tensor = embeddings_to_tensor(X_test)\n",
    "\n",
    "y_train_tensor = torch.tensor(y_train.values, dtype=torch.long)\n",
    "y_val_tensor = torch.tensor(y_val.values, dtype=torch.long)\n",
    "y_test_tensor = torch.tensor(y_test.values, dtype=torch.long)"
   ]
  },
  {
   "cell_type": "code",
   "execution_count": 12,
   "metadata": {},
   "outputs": [],
   "source": [
    "train_data = TensorDataset(X_train_tensor, y_train_tensor)\n",
    "val_data = TensorDataset(X_val_tensor, y_val_tensor)\n",
    "test_data = TensorDataset(X_test_tensor, y_test_tensor)\n",
    "\n",
    "batch_size = 32\n",
    "\n",
    "train_loader = DataLoader(train_data, batch_size=batch_size, shuffle=True)\n",
    "val_loader = DataLoader(val_data, batch_size=batch_size, shuffle=False)\n",
    "test_loader = DataLoader(test_data, batch_size=batch_size, shuffle=False)"
   ]
  },
  {
   "cell_type": "code",
   "execution_count": 13,
   "metadata": {},
   "outputs": [],
   "source": [
    "class TransformerBlock(nn.Module):\n",
    "    def __init__(self, embed_dim, num_heads, ff_dim, dropout=0.5):\n",
    "        super(TransformerBlock, self).__init__()\n",
    "        self.att = nn.MultiheadAttention(embed_dim, num_heads)\n",
    "        self.ffn = nn.Sequential(\n",
    "            nn.Linear(embed_dim, ff_dim),\n",
    "            nn.ReLU(),\n",
    "            nn.Linear(ff_dim, embed_dim),\n",
    "        )\n",
    "        self.layernorm1 = nn.LayerNorm(embed_dim, eps=1e-6)\n",
    "        self.layernorm2 = nn.LayerNorm(embed_dim, eps=1e-6)\n",
    "        self.dropout1 = nn.Dropout(dropout)\n",
    "        self.dropout2 = nn.Dropout(dropout)\n",
    "\n",
    "    def forward(self, inputs):\n",
    "        # Permute to [sequence_length, batch_size, hidden_size]\n",
    "        inputs_perm = inputs.permute(1, 0, 2)\n",
    "        attn_output, _ = self.att(inputs_perm, inputs_perm, inputs_perm)\n",
    "        # Back to [batch_size, sequence_length, hidden_size]\n",
    "        attn_output = attn_output.permute(1, 0, 2)\n",
    "        attn_output = self.dropout1(attn_output)\n",
    "        out1 = self.layernorm1(inputs + attn_output)\n",
    "        ffn_output = self.ffn(out1)\n",
    "        ffn_output = self.dropout2(ffn_output)\n",
    "        return self.layernorm2(out1 + ffn_output)\n",
    "\n",
    "class TextClassificationModel(nn.Module):\n",
    "    def __init__(self, embed_dim, num_heads, ff_dim, max_seq_len, dropout=0.7, num_transformer_blocks=2):\n",
    "        super(TextClassificationModel, self).__init__()\n",
    "        \n",
    "        # Creating multiple Transformer Blocks\n",
    "        self.transformer_blocks = nn.ModuleList([\n",
    "            TransformerBlock(embed_dim, num_heads, ff_dim)\n",
    "            for _ in range(num_transformer_blocks)\n",
    "        ])\n",
    "        \n",
    "        # Pooling Layer\n",
    "        self.pooling = nn.AdaptiveAvgPool1d(1)\n",
    "\n",
    "        # Additional Linear, BatchNorm, and Dropout Layers\n",
    "        self.fc1 = nn.Linear(embed_dim, embed_dim // 2)\n",
    "        self.batch_norm = nn.BatchNorm1d(embed_dim // 2)\n",
    "        self.dropout = nn.Dropout(dropout)\n",
    "\n",
    "        # Final Fully Connected Layer for Classification\n",
    "        self.fc2 = nn.Linear(embed_dim // 2, 1)\n",
    "        \n",
    "        # Positional Encoding Layer\n",
    "        self.positional_encoding = self.create_positional_encoding(max_seq_len, embed_dim)\n",
    "    \n",
    "    \n",
    "    def forward(self, x):\n",
    "        seq_len = x.size(1)\n",
    "\n",
    "        # Get the positional encoding for the sequence length\n",
    "        scaled_pos_encoding = self.positional_encoding[:seq_len, :]\n",
    "        scaled_pos_encoding = scaled_pos_encoding.to(x.device)\n",
    "        scaled_pos_encoding = scaled_pos_encoding.unsqueeze(0).expand(x.size(0), -1, -1)\n",
    "\n",
    "        # Adding positional encoding\n",
    "        x = x + scaled_pos_encoding\n",
    "\n",
    "        # Passing input through each Transformer block sequentially\n",
    "        for transformer_block in self.transformer_blocks:\n",
    "            x = transformer_block(x)\n",
    "        \n",
    "        # Pooling\n",
    "        x = x.permute(0, 2, 1)  \n",
    "        x = self.pooling(x).squeeze(-1)\n",
    "        \n",
    "        # Passing through the first linear layer, batch norm, and dropout\n",
    "        x = F.relu(self.fc1(x))\n",
    "        x = self.batch_norm(x)\n",
    "        x = self.dropout(x)\n",
    "\n",
    "        # Final Classification\n",
    "        x = self.fc2(x)\n",
    "        return x\n",
    "\n",
    "    def create_positional_encoding(self, max_seq_len, embed_dim):\n",
    "        position = torch.arange(0, max_seq_len, dtype=torch.float).unsqueeze(1)\n",
    "        div_term = torch.exp(torch.arange(0, embed_dim, 2).float() * (-math.log(10000.0) / embed_dim))\n",
    "        positional_encoding = torch.zeros(max_seq_len, embed_dim)\n",
    "        positional_encoding[:, 0::2] = torch.sin(position * div_term)\n",
    "        positional_encoding[:, 1::2] = torch.cos(position * div_term)\n",
    "        return positional_encoding"
   ]
  },
  {
   "cell_type": "code",
   "execution_count": 14,
   "metadata": {},
   "outputs": [],
   "source": [
    "# define the device\n",
    "device = torch.device('cuda' if torch.cuda.is_available() else 'cpu')\n",
    "\n",
    "# Calculate class weights\n",
    "class_weight = compute_class_weight('balanced', classes=[0, 1], y=y_train)\n",
    "class_weight_ratio = class_weight[1] / class_weight[0]\n",
    "class_weights_tensor = torch.tensor(class_weight_ratio, dtype=torch.float32, device=device)\n",
    "\n",
    "# Update the loss function to include class weights\n",
    "criterion = nn.BCEWithLogitsLoss(pos_weight=class_weights_tensor)"
   ]
  },
  {
   "cell_type": "code",
   "execution_count": 15,
   "metadata": {},
   "outputs": [],
   "source": [
    "from hyperopt import fmin, tpe, hp, STATUS_OK, Trials\n",
    "import json\n",
    "\n",
    "max_seq_len = max_chunks\n",
    "\n",
    "epochs = 25\n",
    "\n",
    "# Define a global variable for the log file\n",
    "log_file_path = \"hyperopt_log.txt\"\n",
    "\n",
    "# Define the objective function\n",
    "def objective(params):\n",
    "    with open(log_file_path, \"a\") as log_file:\n",
    "        log_file.write(f\"Trial params: {json.dumps(params)}\\n\")\n",
    "    \n",
    "    model = TextClassificationModel(\n",
    "        embed_dim,\n",
    "        int(params['num_heads']),\n",
    "        int(params['ff_dim']),\n",
    "        max_seq_len,\n",
    "        params['dropout'],\n",
    "        int(params['num_transformer_blocks'])\n",
    "    ).to(device)\n",
    "\n",
    "    criterion = nn.BCEWithLogitsLoss()\n",
    "    optimizer = optim.AdamW(model.parameters(), lr=params['learning_rate'], weight_decay=params['weight_decay'])\n",
    "\n",
    "    for epoch in range(epochs):\n",
    "        model.train()\n",
    "        total_train_loss = 0\n",
    "\n",
    "        for X_batch, y_batch in train_loader:\n",
    "            X_batch, y_batch = X_batch.to(device), y_batch.to(device)\n",
    "\n",
    "            optimizer.zero_grad()\n",
    "            y_pred = model(X_batch).squeeze()\n",
    "            loss = criterion(y_pred, y_batch.float())\n",
    "            loss.backward()\n",
    "            optimizer.step()\n",
    "            total_train_loss += loss.item()\n",
    "\n",
    "        model.eval()\n",
    "        total_val_loss = 0\n",
    "        total_val_accuracy = 0\n",
    "        total_val_f1 = 0\n",
    "\n",
    "        with torch.no_grad():\n",
    "            for X_batch, y_batch in val_loader:\n",
    "                X_batch, y_batch = X_batch.to(device), y_batch.to(device)\n",
    "                y_pred = model(X_batch).squeeze()\n",
    "                loss = criterion(y_pred, y_batch.float())\n",
    "                total_val_loss += loss.item()\n",
    "\n",
    "                y_pred = torch.sigmoid(y_pred)\n",
    "                y_pred = torch.round(y_pred)\n",
    "                total_val_accuracy += accuracy_score(y_batch.tolist(), y_pred.tolist())\n",
    "                total_val_f1 += f1_score(y_batch.tolist(), y_pred.tolist())\n",
    "\n",
    "        avg_val_loss = total_val_loss / len(val_loader)\n",
    "        avg_val_accuracy = total_val_accuracy / len(val_loader)\n",
    "        avg_val_f1 = total_val_f1 / len(val_loader)\n",
    "        \n",
    "    with open(log_file_path, \"a\") as log_file:\n",
    "        log_file.write(f\"Loss: {avg_val_loss}\\n\\n\")\n",
    "\n",
    "    return {'loss': avg_val_loss, 'status': STATUS_OK}\n",
    "\n",
    "# Define the hyperparameter space\n",
    "space = {\n",
    "    'num_heads': hp.choice('num_heads', [2, 4, 8]),\n",
    "    'ff_dim': hp.choice('num_heads', [16, 32, 64]),\n",
    "    'dropout': hp.uniform('dropout', 0.5, 0.9),\n",
    "    'learning_rate': hp.loguniform('learning_rate', -6, -2),\n",
    "    'weight_decay': hp.loguniform('weight_decay', -6, -2),\n",
    "    'num_transformer_blocks': hp.choice('num_transformer_blocks', [1, 2, 3])\n",
    "}\n",
    "\n",
    "# Run the optimization\n",
    "trials = Trials()\n",
    "best = fmin(fn=objective, space=space, algo=tpe.suggest, max_evals=100, trials=trials)\n",
    "\n",
    "print(\"Best Hyperparameters:\", best)"
   ]
  },
  {
   "cell_type": "code",
   "execution_count": 16,
   "metadata": {},
   "outputs": [
    {
     "data": {
      "text/plain": [
       "TextClassificationModel(\n",
       "  (transformer_blocks): ModuleList(\n",
       "    (0-1): 2 x TransformerBlock(\n",
       "      (att): MultiheadAttention(\n",
       "        (out_proj): NonDynamicallyQuantizableLinear(in_features=200, out_features=200, bias=True)\n",
       "      )\n",
       "      (ffn): Sequential(\n",
       "        (0): Linear(in_features=200, out_features=64, bias=True)\n",
       "        (1): ReLU()\n",
       "        (2): Linear(in_features=64, out_features=200, bias=True)\n",
       "      )\n",
       "      (layernorm1): LayerNorm((200,), eps=1e-06, elementwise_affine=True)\n",
       "      (layernorm2): LayerNorm((200,), eps=1e-06, elementwise_affine=True)\n",
       "      (dropout1): Dropout(p=0.2, inplace=False)\n",
       "      (dropout2): Dropout(p=0.2, inplace=False)\n",
       "    )\n",
       "  )\n",
       "  (pooling): AdaptiveAvgPool1d(output_size=1)\n",
       "  (fc1): Linear(in_features=200, out_features=100, bias=True)\n",
       "  (batch_norm): BatchNorm1d(100, eps=1e-05, momentum=0.1, affine=True, track_running_stats=True)\n",
       "  (dropout): Dropout(p=0.3, inplace=False)\n",
       "  (fc2): Linear(in_features=100, out_features=1, bias=True)\n",
       ")"
      ]
     },
     "execution_count": 16,
     "metadata": {},
     "output_type": "execute_result"
    }
   ],
   "source": [
    "num_heads = 8\n",
    "ff_dim = 64\n",
    "max_seq_len = max_chunks\n",
    "dropout = 0.5\n",
    "num_transformer_blocks = 2\n",
    "learning_rate = 0.0021\n",
    "weight_decay = 0.006\n",
    "\n",
    "epochs = 25\n",
    "\n",
    "\n",
    "model = TextClassificationModel(embed_dim, num_heads, ff_dim, max_seq_len, dropout, num_transformer_blocks)\n",
    "\n",
    "# send the model to the device\n",
    "model = model.to(device)\n",
    "\n",
    "# Define the optimizer\n",
    "optimizer = optim.AdamW(filter(lambda p: p.requires_grad, model.parameters()), lr=learning_rate, weight_decay=weight_decay)\n",
    "\n",
    "model"
   ]
  },
  {
   "cell_type": "code",
   "execution_count": 17,
   "metadata": {},
   "outputs": [
    {
     "name": "stdout",
     "output_type": "stream",
     "text": [
      "Using device: cuda\n",
      "----------\n"
     ]
    },
    {
     "name": "stderr",
     "output_type": "stream",
     "text": [
      "[Training] Epoch 0]: 100%|██████████| 108/108 [00:04<00:00, 24.09it/s, training_loss=1.15, training_accuracy=0.494, training_f1=0.275]\n",
      "[Validation] Epoch 0]: 100%|██████████| 17/17 [00:00<00:00, 65.19it/s, validation_loss=1.15, validation_accuracy=0.822, validation_f1=0]\n"
     ]
    },
    {
     "name": "stdout",
     "output_type": "stream",
     "text": [
      "----------\n"
     ]
    },
    {
     "name": "stderr",
     "output_type": "stream",
     "text": [
      "[Training] Epoch 1]: 100%|██████████| 108/108 [00:04<00:00, 24.87it/s, training_loss=1.12, training_accuracy=0.544, training_f1=0.293]\n",
      "[Validation] Epoch 1]: 100%|██████████| 17/17 [00:00<00:00, 63.44it/s, validation_loss=1.06, validation_accuracy=0.523, validation_f1=0.29] \n"
     ]
    },
    {
     "name": "stdout",
     "output_type": "stream",
     "text": [
      "----------\n"
     ]
    },
    {
     "name": "stderr",
     "output_type": "stream",
     "text": [
      "[Training] Epoch 2]: 100%|██████████| 108/108 [00:04<00:00, 24.85it/s, training_loss=1.1, training_accuracy=0.569, training_f1=0.322]\n",
      "[Validation] Epoch 2]: 100%|██████████| 17/17 [00:00<00:00, 64.83it/s, validation_loss=1.05, validation_accuracy=0.593, validation_f1=0.361]\n"
     ]
    },
    {
     "name": "stdout",
     "output_type": "stream",
     "text": [
      "----------\n"
     ]
    },
    {
     "name": "stderr",
     "output_type": "stream",
     "text": [
      "[Training] Epoch 3]: 100%|██████████| 108/108 [00:04<00:00, 24.88it/s, training_loss=1.06, training_accuracy=0.595, training_f1=0.363]\n",
      "[Validation] Epoch 3]: 100%|██████████| 17/17 [00:00<00:00, 65.45it/s, validation_loss=1.02, validation_accuracy=0.77, validation_f1=0.412]  \n"
     ]
    },
    {
     "name": "stdout",
     "output_type": "stream",
     "text": [
      "----------\n"
     ]
    },
    {
     "name": "stderr",
     "output_type": "stream",
     "text": [
      "[Training] Epoch 4]: 100%|██████████| 108/108 [00:04<00:00, 24.84it/s, training_loss=1.01, training_accuracy=0.639, training_f1=0.414]\n",
      "[Validation] Epoch 4]: 100%|██████████| 17/17 [00:00<00:00, 63.37it/s, validation_loss=0.931, validation_accuracy=0.709, validation_f1=0.461]\n"
     ]
    },
    {
     "name": "stdout",
     "output_type": "stream",
     "text": [
      "----------\n"
     ]
    },
    {
     "name": "stderr",
     "output_type": "stream",
     "text": [
      "[Training] Epoch 5]: 100%|██████████| 108/108 [00:04<00:00, 24.76it/s, training_loss=0.949, training_accuracy=0.673, training_f1=0.435]\n",
      "[Validation] Epoch 5]: 100%|██████████| 17/17 [00:00<00:00, 66.02it/s, validation_loss=2.49, validation_accuracy=0.825, validation_f1=0]\n"
     ]
    },
    {
     "name": "stdout",
     "output_type": "stream",
     "text": [
      "----------\n"
     ]
    },
    {
     "name": "stderr",
     "output_type": "stream",
     "text": [
      "[Training] Epoch 6]: 100%|██████████| 108/108 [00:04<00:00, 24.71it/s, training_loss=0.889, training_accuracy=0.708, training_f1=0.474]\n",
      "[Validation] Epoch 6]: 100%|██████████| 17/17 [00:00<00:00, 65.83it/s, validation_loss=0.847, validation_accuracy=0.584, validation_f1=0.429]\n"
     ]
    },
    {
     "name": "stdout",
     "output_type": "stream",
     "text": [
      "----------\n"
     ]
    },
    {
     "name": "stderr",
     "output_type": "stream",
     "text": [
      "[Training] Epoch 7]: 100%|██████████| 108/108 [00:04<00:00, 24.70it/s, training_loss=0.805, training_accuracy=0.729, training_f1=0.512]\n",
      "[Validation] Epoch 7]: 100%|██████████| 17/17 [00:00<00:00, 65.58it/s, validation_loss=0.749, validation_accuracy=0.868, validation_f1=0.568]\n"
     ]
    },
    {
     "name": "stdout",
     "output_type": "stream",
     "text": [
      "----------\n"
     ]
    },
    {
     "name": "stderr",
     "output_type": "stream",
     "text": [
      "[Training] Epoch 8]: 100%|██████████| 108/108 [00:04<00:00, 24.68it/s, training_loss=0.748, training_accuracy=0.768, training_f1=0.56] \n",
      "[Validation] Epoch 8]: 100%|██████████| 17/17 [00:00<00:00, 63.60it/s, validation_loss=0.634, validation_accuracy=0.739, validation_f1=0.507]\n"
     ]
    },
    {
     "name": "stdout",
     "output_type": "stream",
     "text": [
      "----------\n"
     ]
    },
    {
     "name": "stderr",
     "output_type": "stream",
     "text": [
      "[Training] Epoch 9]: 100%|██████████| 108/108 [00:04<00:00, 24.63it/s, training_loss=0.703, training_accuracy=0.784, training_f1=0.58] \n",
      "[Validation] Epoch 9]: 100%|██████████| 17/17 [00:00<00:00, 65.59it/s, validation_loss=2.1, validation_accuracy=0.329, validation_f1=0.333] \n"
     ]
    },
    {
     "name": "stdout",
     "output_type": "stream",
     "text": [
      "----------\n"
     ]
    },
    {
     "name": "stderr",
     "output_type": "stream",
     "text": [
      "[Training] Epoch 10]: 100%|██████████| 108/108 [00:04<00:00, 24.69it/s, training_loss=0.66, training_accuracy=0.795, training_f1=0.599] \n",
      "[Validation] Epoch 10]: 100%|██████████| 17/17 [00:00<00:00, 65.12it/s, validation_loss=0.588, validation_accuracy=0.728, validation_f1=0.508]\n"
     ]
    },
    {
     "name": "stdout",
     "output_type": "stream",
     "text": [
      "----------\n"
     ]
    },
    {
     "name": "stderr",
     "output_type": "stream",
     "text": [
      "[Training] Epoch 11]: 100%|██████████| 108/108 [00:04<00:00, 24.71it/s, training_loss=0.581, training_accuracy=0.838, training_f1=0.658]\n",
      "[Validation] Epoch 11]: 100%|██████████| 17/17 [00:00<00:00, 64.95it/s, validation_loss=0.505, validation_accuracy=0.785, validation_f1=0.552]\n"
     ]
    },
    {
     "name": "stdout",
     "output_type": "stream",
     "text": [
      "----------\n"
     ]
    },
    {
     "name": "stderr",
     "output_type": "stream",
     "text": [
      "[Training] Epoch 12]: 100%|██████████| 108/108 [00:04<00:00, 24.63it/s, training_loss=0.53, training_accuracy=0.848, training_f1=0.67]  \n",
      "[Validation] Epoch 12]: 100%|██████████| 17/17 [00:00<00:00, 65.99it/s, validation_loss=0.636, validation_accuracy=0.69, validation_f1=0.493]\n"
     ]
    },
    {
     "name": "stdout",
     "output_type": "stream",
     "text": [
      "----------\n"
     ]
    },
    {
     "name": "stderr",
     "output_type": "stream",
     "text": [
      "[Training] Epoch 13]: 100%|██████████| 108/108 [00:04<00:00, 24.66it/s, training_loss=0.48, training_accuracy=0.869, training_f1=0.701] \n",
      "[Validation] Epoch 13]: 100%|██████████| 17/17 [00:00<00:00, 65.10it/s, validation_loss=5.76, validation_accuracy=0.199, validation_f1=0.293]\n"
     ]
    },
    {
     "name": "stdout",
     "output_type": "stream",
     "text": [
      "----------\n"
     ]
    },
    {
     "name": "stderr",
     "output_type": "stream",
     "text": [
      "[Training] Epoch 14]: 100%|██████████| 108/108 [00:04<00:00, 24.66it/s, training_loss=0.459, training_accuracy=0.87, training_f1=0.71] \n",
      "[Validation] Epoch 14]: 100%|██████████| 17/17 [00:00<00:00, 64.69it/s, validation_loss=1.83, validation_accuracy=0.413, validation_f1=0.356]\n"
     ]
    },
    {
     "name": "stdout",
     "output_type": "stream",
     "text": [
      "----------\n"
     ]
    },
    {
     "name": "stderr",
     "output_type": "stream",
     "text": [
      "[Training] Epoch 15]: 100%|██████████| 108/108 [00:04<00:00, 24.57it/s, training_loss=0.409, training_accuracy=0.889, training_f1=0.737]\n",
      "[Validation] Epoch 15]: 100%|██████████| 17/17 [00:00<00:00, 64.67it/s, validation_loss=1.1, validation_accuracy=0.886, validation_f1=0.489] \n"
     ]
    },
    {
     "name": "stdout",
     "output_type": "stream",
     "text": [
      "----------\n"
     ]
    },
    {
     "name": "stderr",
     "output_type": "stream",
     "text": [
      "[Training] Epoch 16]: 100%|██████████| 108/108 [00:04<00:00, 24.70it/s, training_loss=0.434, training_accuracy=0.881, training_f1=0.723]\n",
      "[Validation] Epoch 16]: 100%|██████████| 17/17 [00:00<00:00, 64.06it/s, validation_loss=1.39, validation_accuracy=0.487, validation_f1=0.387]\n"
     ]
    },
    {
     "name": "stdout",
     "output_type": "stream",
     "text": [
      "----------\n"
     ]
    },
    {
     "name": "stderr",
     "output_type": "stream",
     "text": [
      "[Training] Epoch 17]: 100%|██████████| 108/108 [00:04<00:00, 24.66it/s, training_loss=0.354, training_accuracy=0.904, training_f1=0.767]\n",
      "[Validation] Epoch 17]: 100%|██████████| 17/17 [00:00<00:00, 64.93it/s, validation_loss=0.411, validation_accuracy=0.818, validation_f1=0.595]\n"
     ]
    },
    {
     "name": "stdout",
     "output_type": "stream",
     "text": [
      "----------\n"
     ]
    },
    {
     "name": "stderr",
     "output_type": "stream",
     "text": [
      "[Training] Epoch 18]: 100%|██████████| 108/108 [00:04<00:00, 24.67it/s, training_loss=0.335, training_accuracy=0.914, training_f1=0.788]\n",
      "[Validation] Epoch 18]: 100%|██████████| 17/17 [00:00<00:00, 64.86it/s, validation_loss=1.65, validation_accuracy=0.881, validation_f1=0.441]\n"
     ]
    },
    {
     "name": "stdout",
     "output_type": "stream",
     "text": [
      "----------\n"
     ]
    },
    {
     "name": "stderr",
     "output_type": "stream",
     "text": [
      "[Training] Epoch 19]: 100%|██████████| 108/108 [00:04<00:00, 24.61it/s, training_loss=0.33, training_accuracy=0.91, training_f1=0.783]  \n",
      "[Validation] Epoch 19]: 100%|██████████| 17/17 [00:00<00:00, 63.84it/s, validation_loss=0.216, validation_accuracy=0.971, validation_f1=0.856]\n"
     ]
    },
    {
     "name": "stdout",
     "output_type": "stream",
     "text": [
      "----------\n"
     ]
    },
    {
     "name": "stderr",
     "output_type": "stream",
     "text": [
      "[Training] Epoch 20]: 100%|██████████| 108/108 [00:04<00:00, 24.67it/s, training_loss=0.291, training_accuracy=0.926, training_f1=0.812]\n",
      "[Validation] Epoch 20]: 100%|██████████| 17/17 [00:00<00:00, 65.40it/s, validation_loss=2.09, validation_accuracy=0.847, validation_f1=0.168]\n"
     ]
    },
    {
     "name": "stdout",
     "output_type": "stream",
     "text": [
      "----------\n"
     ]
    },
    {
     "name": "stderr",
     "output_type": "stream",
     "text": [
      "[Training] Epoch 21]: 100%|██████████| 108/108 [00:04<00:00, 24.65it/s, training_loss=0.31, training_accuracy=0.913, training_f1=0.781] \n",
      "[Validation] Epoch 21]: 100%|██████████| 17/17 [00:00<00:00, 64.05it/s, validation_loss=1.34, validation_accuracy=0.857, validation_f1=0.227]\n"
     ]
    },
    {
     "name": "stdout",
     "output_type": "stream",
     "text": [
      "----------\n"
     ]
    },
    {
     "name": "stderr",
     "output_type": "stream",
     "text": [
      "[Training] Epoch 22]: 100%|██████████| 108/108 [00:04<00:00, 24.56it/s, training_loss=0.28, training_accuracy=0.934, training_f1=0.833] \n",
      "[Validation] Epoch 22]: 100%|██████████| 17/17 [00:00<00:00, 64.23it/s, validation_loss=6.77, validation_accuracy=0.827, validation_f1=0.0168]\n"
     ]
    },
    {
     "name": "stdout",
     "output_type": "stream",
     "text": [
      "----------\n"
     ]
    },
    {
     "name": "stderr",
     "output_type": "stream",
     "text": [
      "[Training] Epoch 23]: 100%|██████████| 108/108 [00:04<00:00, 24.61it/s, training_loss=0.287, training_accuracy=0.924, training_f1=0.8]  \n",
      "[Validation] Epoch 23]: 100%|██████████| 17/17 [00:00<00:00, 65.23it/s, validation_loss=0.785, validation_accuracy=0.936, validation_f1=0.698]\n"
     ]
    },
    {
     "name": "stdout",
     "output_type": "stream",
     "text": [
      "----------\n"
     ]
    },
    {
     "name": "stderr",
     "output_type": "stream",
     "text": [
      "[Training] Epoch 24]: 100%|██████████| 108/108 [00:04<00:00, 24.56it/s, training_loss=0.256, training_accuracy=0.936, training_f1=0.834]\n",
      "[Validation] Epoch 24]: 100%|██████████| 17/17 [00:00<00:00, 64.85it/s, validation_loss=0.463, validation_accuracy=0.954, validation_f1=0.777]\n"
     ]
    }
   ],
   "source": [
    "print(\"Using device:\", device)\n",
    "\n",
    "for epoch in range(epochs):\n",
    "    \n",
    "    print('-' * 10)\n",
    "    \n",
    "    total_train_loss = 0\n",
    "    total_train_accuracy = 0\n",
    "    total_train_f1 = 0\n",
    "    \n",
    "    model.train()\n",
    "\n",
    "    progress_bar = tqdm(enumerate(train_loader), total=len(train_loader))\n",
    "    \n",
    "    for i, batch in progress_bar:\n",
    "        progress_bar.set_description(f'[Training] Epoch {epoch}]')\n",
    "        \n",
    "        optimizer.zero_grad()\n",
    "        \n",
    "        X_batch, y_batch = batch\n",
    "        X_batch = X_batch.to(device)\n",
    "        y_batch = y_batch.to(device)\n",
    "        \n",
    "        y_pred = model(X_batch).squeeze() \n",
    "        \n",
    "        loss = criterion(y_pred, y_batch.float())\n",
    "        \n",
    "        loss.backward()\n",
    "        optimizer.step()\n",
    "        \n",
    "        y_pred = torch.sigmoid(y_pred)\n",
    "        y_pred = torch.round(y_pred)\n",
    "\n",
    "        total_train_loss += loss.item()\n",
    "        total_train_accuracy += accuracy_score(y_batch.tolist(), y_pred.detach().cpu().numpy().tolist())\n",
    "        total_train_f1 += f1_score(y_batch.tolist(), y_pred.detach().cpu().numpy().tolist())\n",
    "        \n",
    "        progress_bar.set_postfix({'training_loss': total_train_loss / (i + 1), 'training_accuracy': total_train_accuracy / (i + 1), 'training_f1': total_train_f1 / (i + 1)})\n",
    "        \n",
    "    total_val_loss = 0\n",
    "    total_val_accuracy = 0\n",
    "    total_val_f1 = 0\n",
    "\n",
    "    model.eval()\n",
    "    \n",
    "    progress_bar = tqdm(enumerate(val_loader), total=len(val_loader))\n",
    "    \n",
    "    for i, batch in progress_bar:\n",
    "        progress_bar.set_description(f'[Validation] Epoch {epoch}]')\n",
    "        \n",
    "        X_batch, y_batch = batch\n",
    "        X_batch = X_batch.to(device)\n",
    "        y_batch = y_batch.to(device)\n",
    "        \n",
    "        with torch.no_grad():\n",
    "            y_pred = model(X_batch).squeeze() \n",
    "        \n",
    "        loss = criterion(y_pred, y_batch.float())\n",
    "        \n",
    "        y_pred = torch.sigmoid(y_pred)\n",
    "        y_pred = torch.round(y_pred)\n",
    "        \n",
    "        total_val_loss += loss.item()\n",
    "        total_val_accuracy += accuracy_score(y_batch.tolist(), y_pred.tolist())\n",
    "        total_val_f1 += f1_score(y_batch.tolist(), y_pred.tolist())\n",
    "        \n",
    "        progress_bar.set_postfix({'validation_loss': total_val_loss / (i + 1), 'validation_accuracy': total_val_accuracy / (i + 1), 'validation_f1': total_val_f1 / (i + 1)})"
   ]
  },
  {
   "cell_type": "code",
   "execution_count": 18,
   "metadata": {},
   "outputs": [
    {
     "name": "stderr",
     "output_type": "stream",
     "text": [
      "Testing: 100%|██████████| 17/17 [00:00<00:00, 64.08it/s, testing_loss=0.615, testing_accuracy=0.939, testing_f1=0.807]\n"
     ]
    },
    {
     "name": "stdout",
     "output_type": "stream",
     "text": [
      "              precision    recall  f1-score   support\n",
      "\n",
      "           0       0.93      1.00      0.96       421\n",
      "           1       1.00      0.65      0.79        95\n",
      "\n",
      "    accuracy                           0.94       516\n",
      "   macro avg       0.96      0.83      0.88       516\n",
      "weighted avg       0.94      0.94      0.93       516\n",
      "\n"
     ]
    },
    {
     "data": {
      "image/png": "[encoded data removed]",
      "text/plain": [
       "<Figure size 500x500 with 2 Axes>"
      ]
     },
     "metadata": {},
     "output_type": "display_data"
    }
   ],
   "source": [
    "# test the model\n",
    "model.eval()\n",
    "\n",
    "total_loss = 0\n",
    "total_accuracy = 0\n",
    "total_f1 = 0\n",
    "\n",
    "all_labels = []\n",
    "all_predictions = []\n",
    "\n",
    "progress_bar = tqdm(enumerate(test_loader), total=len(test_loader))\n",
    "\n",
    "for i, batch in progress_bar:\n",
    "    progress_bar.set_description(f'Testing')\n",
    "    \n",
    "    X_batch, y_batch = batch\n",
    "    X_batch = X_batch.to(device)\n",
    "    y_batch = y_batch.to(device)\n",
    "    \n",
    "    with torch.no_grad():\n",
    "        y_pred = model(X_batch).squeeze() \n",
    "    \n",
    "    loss = criterion(y_pred, y_batch.float())\n",
    "    \n",
    "    y_pred = torch.sigmoid(y_pred)\n",
    "    y_pred = torch.round(y_pred)\n",
    "    \n",
    "    all_labels.extend(y_batch.tolist())\n",
    "    all_predictions.extend(y_pred.tolist())\n",
    "    \n",
    "    total_loss += loss.item()\n",
    "    total_accuracy += accuracy_score(y_batch.tolist(), y_pred.tolist())\n",
    "    total_f1 += f1_score(y_batch.tolist(), y_pred.tolist())\n",
    "    \n",
    "    progress_bar.set_postfix({'testing_loss': total_loss / (i + 1), 'testing_accuracy': total_accuracy / (i + 1), 'testing_f1': total_f1 / (i + 1)})\n",
    "    \n",
    "print(classification_report(all_labels, all_predictions))\n",
    "\n",
    "# confusion matrix\n",
    "cm = confusion_matrix(all_labels, all_predictions)\n",
    "plt.figure(figsize=(5, 5))\n",
    "sns.heatmap(cm, annot=True, fmt=\"d\")\n",
    "plt.title('Confusion matrix')\n",
    "plt.ylabel('Actual label')\n",
    "plt.xlabel('Predicted label')\n",
    "plt.show()"
   ]
  }
 ],
 "metadata": {
  "kernelspec": {
   "display_name": "base",
   "language": "python",
   "name": "python3"
  },
  "language_info": {
   "codemirror_mode": {
    "name": "ipython",
    "version": 3
   },
   "file_extension": ".py",
   "mimetype": "text/x-python",
   "name": "python",
   "nbconvert_exporter": "python",
   "pygments_lexer": "ipython3",
   "version": "3.9.18"
  }
 },
 "nbformat": 4,
 "nbformat_minor": 2
}
