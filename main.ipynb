{
 "cells": [
  {
   "cell_type": "code",
   "execution_count": 1,
   "metadata": {},
   "outputs": [],
   "source": [
    "import warnings\n",
    "\n",
    "warnings.filterwarnings('ignore')"
   ]
  },
  {
   "cell_type": "code",
   "execution_count": 2,
   "metadata": {},
   "outputs": [],
   "source": [
    "import pandas as pd\n",
    "import re\n",
    "import matplotlib.pyplot as plt\n",
    "import seaborn as sns\n",
    "from tqdm import tqdm\n",
    "from sklearn.model_selection import train_test_split, StratifiedShuffleSplit\n",
    "from sklearn.metrics import accuracy_score, f1_score, classification_report, roc_auc_score, confusion_matrix\n",
    "import numpy as np\n",
    "import torch\n",
    "import torch.nn as nn\n",
    "import torch.nn.functional as F\n",
    "from torch.utils.data import Dataset, DataLoader, TensorDataset\n",
    "import torch.optim as optim\n",
    "from torch.nn.utils.rnn import pad_sequence\n",
    "import math\n",
    "from pprint import pprint\n",
    "from collections import Counter\n",
    "import gensim\n",
    "\n",
    "\n",
    "from sklearn.utils.class_weight import compute_class_weight\n",
    "\n",
    "tqdm.pandas()"
   ]
  },
  {
   "cell_type": "code",
   "execution_count": 3,
   "metadata": {},
   "outputs": [],
   "source": [
    "data = pd.read_csv('data_m.csv')"
   ]
  },
  {
   "cell_type": "code",
   "execution_count": 4,
   "metadata": {},
   "outputs": [],
   "source": [
    "# data_0 = data[data['VAP'] == 0]\n",
    "# data_1 = data[data['VAP'] == 1]\n",
    "\n",
    "# # Count word frequencies in each class\n",
    "# counter_0 = Counter(word for text in data_0['TEXT'] for word in text.split())\n",
    "# counter_1 = Counter(word for text in data_1['TEXT'] for word in text.split())\n",
    "\n",
    "# # Find words that are common to both classes\n",
    "# common_words = set(counter_0.keys()).intersection(counter_1.keys())\n",
    "\n",
    "# # Set the threshold for word removal\n",
    "# threshold = 0.2\n",
    "\n",
    "# # Determine words to remove based on their frequency ratio\n",
    "# words_to_remove = {\n",
    "#     word for word in common_words\n",
    "#     if 1 - threshold <= (counter_1[word] / data_1.shape[0]) / (counter_0[word] / data_0.shape[0]) <= 1 + threshold\n",
    "# }\n",
    "\n",
    "# # Function to remove selected words\n",
    "# def remove_selected_words(text):\n",
    "#     return ' '.join(word for word in text.split() if word not in words_to_remove)\n",
    "\n",
    "# # Apply the function to the 'TEXT' column\n",
    "# data['TEXT'] = data['TEXT'].progress_apply(remove_selected_words)"
   ]
  },
  {
   "cell_type": "code",
   "execution_count": 5,
   "metadata": {},
   "outputs": [
    {
     "name": "stderr",
     "output_type": "stream",
     "text": [
      "  0%|          | 0/3558 [00:00<?, ?it/s]"
     ]
    },
    {
     "name": "stderr",
     "output_type": "stream",
     "text": [
      "100%|██████████| 3558/3558 [00:47<00:00, 75.08it/s]  \n"
     ]
    }
   ],
   "source": [
    "def clean_text(text):\n",
    "    text = re.sub(r'[^a-zA-Z]', ' ', text)\n",
    "    text = re.sub(r'\\s+', ' ', text)\n",
    "    return text\n",
    "\n",
    "data['TEXT'] = data['TEXT'].progress_apply(clean_text)"
   ]
  },
  {
   "cell_type": "code",
   "execution_count": 6,
   "metadata": {},
   "outputs": [],
   "source": [
    "# remove rows with empty text\n",
    "data = data[data['TEXT'] != '']\n",
    "\n",
    "# reindex the DataFrame\n",
    "data = data.reset_index(drop=True)"
   ]
  },
  {
   "cell_type": "code",
   "execution_count": 7,
   "metadata": {},
   "outputs": [
    {
     "data": {
      "text/plain": [
       "<Axes: ylabel='count'>"
      ]
     },
     "execution_count": 7,
     "metadata": {},
     "output_type": "execute_result"
    },
    {
     "data": {
      "image/png": "[encoded data removed]",
      "text/plain": [
       "<Figure size 640x480 with 1 Axes>"
      ]
     },
     "metadata": {},
     "output_type": "display_data"
    }
   ],
   "source": [
    "# # create a new dataframe that contains as much data from each class as the number of rows in the class with the least rows\n",
    "# data_balanced = pd.concat([data[data['VAP'] == 0].sample(data[data['VAP'] == 1].shape[0], random_state=42), data[data['VAP'] == 1]])\n",
    "# data = data_balanced\n",
    "# pie chart of Label\n",
    "data['VAP'].value_counts().plot.pie(autopct='%1.1f%%')"
   ]
  },
  {
   "cell_type": "code",
   "execution_count": 8,
   "metadata": {},
   "outputs": [
    {
     "name": "stdout",
     "output_type": "stream",
     "text": [
      "Average words per text: 27222.171444631815\n",
      "Average words per text class 0: 33292.13312478276\n",
      "Average words per text class 1: 1578.588839941263\n"
     ]
    }
   ],
   "source": [
    "# Load the embedding model\n",
    "embedding_model = gensim.models.KeyedVectors.load_word2vec_format(\"bio.bin\", binary=True)\n",
    "\n",
    "# Create a set of words present in the embedding model for faster lookup\n",
    "words_in_model = set(embedding_model.key_to_index)\n",
    "\n",
    "# Function to calculate the average number of words per text\n",
    "def average_words(text_series):\n",
    "    return text_series.str.split().apply(lambda words: len([word for word in words if word in words_in_model])).mean()\n",
    "\n",
    "# Calculate averages\n",
    "average_words_per_text = average_words(data['TEXT'])\n",
    "print(f'Average words per text: {average_words_per_text}')\n",
    "\n",
    "average_words_per_text_class_0 = average_words(data[data['VAP'] == 0]['TEXT'])\n",
    "print(f'Average words per text class 0: {average_words_per_text_class_0}')\n",
    "\n",
    "average_words_per_text_class_1 = average_words(data[data['VAP'] == 1]['TEXT'])\n",
    "print(f'Average words per text class 1: {average_words_per_text_class_1}')"
   ]
  },
  {
   "cell_type": "code",
   "execution_count": 9,
   "metadata": {},
   "outputs": [],
   "source": [
    "chunk_size = 32\n",
    "max_chunks = 768"
   ]
  },
  {
   "cell_type": "code",
   "execution_count": 10,
   "metadata": {},
   "outputs": [
    {
     "name": "stderr",
     "output_type": "stream",
     "text": [
      "100%|██████████| 3558/3558 [00:48<00:00, 73.31it/s] \n"
     ]
    }
   ],
   "source": [
    "# creating a matrix of word embeddings using the cleaned data and the BioWordVec model\n",
    "embedding_model = gensim.models.KeyedVectors.load_word2vec_format(\"bio.bin\", binary=True)\n",
    "embed_dim = embedding_model.vector_size\n",
    "\n",
    "def split_into_chunks(text, chunk_size=200):\n",
    "    words = text.split()\n",
    "    return [' '.join(words[i:i+chunk_size]) for i in range(0, len(words), chunk_size)]\n",
    "\n",
    "def average_embeddings_for_chunk(chunk, embedding_model):\n",
    "    embeddings = []\n",
    "    for word in chunk.split():\n",
    "        try:\n",
    "            embeddings.append(embedding_model[word])\n",
    "        except KeyError:\n",
    "            pass\n",
    "    if embeddings:\n",
    "        return np.mean(embeddings, axis=0)\n",
    "    else:\n",
    "        return np.zeros(embedding_model.vector_size)  # Return zero vector if no words found\n",
    "\n",
    "def process_text(text, embedding_model, chunk_size=200, max_chunks=256):\n",
    "    chunks = split_into_chunks(text, chunk_size)\n",
    "    chunk_embeddings = [average_embeddings_for_chunk(chunk, embedding_model) for chunk in chunks[:max_chunks]]\n",
    "    # Pad with zeros if there are fewer chunks than max_chunks\n",
    "    while len(chunk_embeddings) < max_chunks:\n",
    "        chunk_embeddings.append(np.zeros(embedding_model.vector_size))\n",
    "    return chunk_embeddings\n",
    "\n",
    "# Apply the processing to each row in the DataFrame\n",
    "chunks_of_embeddings = data['TEXT'].progress_apply(lambda text: process_text(text, embedding_model, chunk_size, max_chunks))"
   ]
  },
  {
   "cell_type": "code",
   "execution_count": 11,
   "metadata": {},
   "outputs": [],
   "source": [
    "# Separate the data by class\n",
    "class_0 = chunks_of_embeddings[data['VAP'] == 0]\n",
    "class_1 = chunks_of_embeddings[data['VAP'] == 1]\n",
    "\n",
    "# Determine the number of samples per class for the training set (15% of total data for each class)\n",
    "n_samples = int(0.10 * len(chunks_of_embeddings))\n",
    "\n",
    "# Sample from each class\n",
    "train_0 = class_0.sample(n=n_samples, random_state=42)\n",
    "train_1 = class_1.sample(n=n_samples, random_state=42)\n",
    "\n",
    "# Combine to form the training set\n",
    "X_train = pd.concat([train_0, train_1])\n",
    "y_train = data['VAP'].loc[X_train.index]\n",
    "\n",
    "# Remove the training data from the dataset\n",
    "remaining_data = chunks_of_embeddings.drop(X_train.index)\n",
    "remaining_target = data['VAP'].drop(X_train.index)\n",
    "\n",
    "# Split the remaining data into validation and test sets (50-50 split)\n",
    "X_val, X_test, y_val, y_test = train_test_split(remaining_data, remaining_target, test_size=0.95, random_state=42, stratify=remaining_target)"
   ]
  },
  {
   "cell_type": "code",
   "execution_count": 12,
   "metadata": {},
   "outputs": [
    {
     "name": "stdout",
     "output_type": "stream",
     "text": [
      "Number of training samples: 710\n",
      "Number of validation samples: 142\n",
      "Number of test samples: 2706\n"
     ]
    }
   ],
   "source": [
    "print(f'Number of training samples: {len(X_train)}')\n",
    "print(f'Number of validation samples: {len(X_val)}')\n",
    "print(f'Number of test samples: {len(X_test)}')"
   ]
  },
  {
   "cell_type": "code",
   "execution_count": 13,
   "metadata": {},
   "outputs": [],
   "source": [
    "# Function to convert embeddings and labels to tensors\n",
    "def embeddings_to_tensor(embeddings):\n",
    "    return torch.tensor(embeddings, dtype=torch.float32)\n",
    "\n",
    "# Convert embeddings and labels to tensors\n",
    "X_train_tensor = embeddings_to_tensor(X_train.to_list())\n",
    "X_val_tensor = embeddings_to_tensor(X_val.to_list())\n",
    "X_test_tensor = embeddings_to_tensor(X_test.to_list())\n",
    "\n",
    "y_train_tensor = torch.tensor(y_train.values, dtype=torch.long)\n",
    "y_val_tensor = torch.tensor(y_val.values, dtype=torch.long)\n",
    "y_test_tensor = torch.tensor(y_test.values, dtype=torch.long)"
   ]
  },
  {
   "cell_type": "code",
   "execution_count": 14,
   "metadata": {},
   "outputs": [],
   "source": [
    "train_data = TensorDataset(X_train_tensor, y_train_tensor)\n",
    "val_data = TensorDataset(X_val_tensor, y_val_tensor)\n",
    "test_data = TensorDataset(X_test_tensor, y_test_tensor)\n",
    "\n",
    "batch_size = 32\n",
    "\n",
    "train_loader = DataLoader(train_data, batch_size=batch_size, shuffle=True)\n",
    "val_loader = DataLoader(val_data, batch_size=batch_size, shuffle=False)\n",
    "test_loader = DataLoader(test_data, batch_size=batch_size, shuffle=False)"
   ]
  },
  {
   "cell_type": "code",
   "execution_count": 15,
   "metadata": {},
   "outputs": [],
   "source": [
    "class TransformerBlock(nn.Module):\n",
    "    def __init__(self, embed_dim, num_heads, ff_dim, dropout=0.5):\n",
    "        super(TransformerBlock, self).__init__()\n",
    "        self.att = nn.MultiheadAttention(embed_dim, num_heads)\n",
    "        self.ffn = nn.Sequential(\n",
    "            nn.Linear(embed_dim, ff_dim),\n",
    "            nn.ReLU(),\n",
    "            nn.Linear(ff_dim, embed_dim),\n",
    "        )\n",
    "        self.layernorm1 = nn.LayerNorm(embed_dim, eps=1e-6)\n",
    "        self.layernorm2 = nn.LayerNorm(embed_dim, eps=1e-6)\n",
    "        self.dropout1 = nn.Dropout(dropout)\n",
    "        self.dropout2 = nn.Dropout(dropout)\n",
    "\n",
    "    def forward(self, inputs):\n",
    "        # Permute to [sequence_length, batch_size, hidden_size]\n",
    "        inputs_perm = inputs.permute(1, 0, 2)\n",
    "        attn_output, _ = self.att(inputs_perm, inputs_perm, inputs_perm)\n",
    "        # Back to [batch_size, sequence_length, hidden_size]\n",
    "        attn_output = attn_output.permute(1, 0, 2)\n",
    "        attn_output = self.dropout1(attn_output)\n",
    "        out1 = self.layernorm1(inputs + attn_output)\n",
    "        ffn_output = self.ffn(out1)\n",
    "        ffn_output = self.dropout2(ffn_output)\n",
    "        return self.layernorm2(out1 + ffn_output)\n",
    "\n",
    "class TextClassificationModel(nn.Module):\n",
    "    def __init__(self, embed_dim, num_heads, ff_dim, max_seq_len, dropout=0.7, num_transformer_blocks=2):\n",
    "        super(TextClassificationModel, self).__init__()\n",
    "        \n",
    "        # Creating multiple Transformer Blocks\n",
    "        self.transformer_blocks = nn.ModuleList([\n",
    "            TransformerBlock(embed_dim, num_heads, ff_dim)\n",
    "            for _ in range(num_transformer_blocks)\n",
    "        ])\n",
    "        \n",
    "        # Pooling Layer\n",
    "        self.pooling = nn.AdaptiveAvgPool1d(1)\n",
    "\n",
    "        # Additional Linear, BatchNorm, and Dropout Layers\n",
    "        self.fc1 = nn.Linear(embed_dim, embed_dim // 2)\n",
    "        self.batch_norm = nn.BatchNorm1d(embed_dim // 2)\n",
    "        self.dropout = nn.Dropout(dropout)\n",
    "\n",
    "        # Final Fully Connected Layer for Classification\n",
    "        self.fc2 = nn.Linear(embed_dim // 2, 1)\n",
    "        \n",
    "        # Positional Encoding Layer\n",
    "        self.positional_encoding = self.create_positional_encoding(max_seq_len, embed_dim)\n",
    "    \n",
    "    \n",
    "    def forward(self, x):\n",
    "        seq_len = x.size(1)\n",
    "\n",
    "        # Get the positional encoding for the sequence length\n",
    "        scaled_pos_encoding = self.positional_encoding[:seq_len, :]\n",
    "        scaled_pos_encoding = scaled_pos_encoding.to(x.device)\n",
    "        scaled_pos_encoding = scaled_pos_encoding.unsqueeze(0).expand(x.size(0), -1, -1)\n",
    "\n",
    "        # Adding positional encoding\n",
    "        x = x + scaled_pos_encoding\n",
    "\n",
    "        # Passing input through each Transformer block sequentially\n",
    "        for transformer_block in self.transformer_blocks:\n",
    "            x = transformer_block(x)\n",
    "        \n",
    "        # Pooling\n",
    "        x = x.permute(0, 2, 1)  \n",
    "        x = self.pooling(x).squeeze(-1)\n",
    "        \n",
    "        # Passing through the first linear layer, batch norm, and dropout\n",
    "        x = F.relu(self.fc1(x))\n",
    "        x = self.batch_norm(x)\n",
    "        x = self.dropout(x)\n",
    "\n",
    "        # Final Classification\n",
    "        x = self.fc2(x)\n",
    "        return x\n",
    "\n",
    "    def create_positional_encoding(self, max_seq_len, embed_dim):\n",
    "        position = torch.arange(0, max_seq_len, dtype=torch.float).unsqueeze(1)\n",
    "        div_term = torch.exp(torch.arange(0, embed_dim, 2).float() * (-math.log(10000.0) / embed_dim))\n",
    "        positional_encoding = torch.zeros(max_seq_len, embed_dim)\n",
    "        positional_encoding[:, 0::2] = torch.sin(position * div_term)\n",
    "        positional_encoding[:, 1::2] = torch.cos(position * div_term)\n",
    "        return positional_encoding"
   ]
  },
  {
   "cell_type": "code",
   "execution_count": 16,
   "metadata": {},
   "outputs": [],
   "source": [
    "# define the device\n",
    "device = torch.device('cuda' if torch.cuda.is_available() else 'cpu')\n",
    "\n",
    "# # Calculate class weights\n",
    "# class_weight = compute_class_weight('balanced', classes=[0, 1], y=y_train)\n",
    "# class_weight_ratio = class_weight[1] / class_weight[0]\n",
    "# class_weights_tensor = torch.tensor(class_weight_ratio, dtype=torch.float32, device=device)\n",
    "\n",
    "# Update the loss function to include class weights\n",
    "criterion = nn.BCEWithLogitsLoss()\n",
    "\n",
    "max_seq_len = max_chunks\n",
    "epochs = 25"
   ]
  },
  {
   "cell_type": "code",
   "execution_count": 17,
   "metadata": {},
   "outputs": [
    {
     "name": "stdout",
     "output_type": "stream",
     "text": [
      "100%|██████████| 100/100 [1:19:01<00:00, 47.41s/trial, best loss: 0.010407200627378188]\n",
      "Best Hyperparameters: {'dropout': 0.46094376887162336, 'ff_dim': 56.00981762367017, 'learning_rate': 0.01837600770292798, 'num_heads': 2, 'num_transformer_blocks': 0, 'weight_decay': 0.0021571100802206134}\n"
     ]
    }
   ],
   "source": [
    "# from hyperopt import fmin, tpe, hp, STATUS_OK, Trials\n",
    "# import json\n",
    "\n",
    "# # Define a global variable for the log file\n",
    "# log_file_path = \"hyperopt_log.txt\"\n",
    "\n",
    "# # Define the objective function\n",
    "# def objective(params):\n",
    "#     with open(log_file_path, \"a\") as log_file:\n",
    "#         log_file.write(f\"Trial params: {json.dumps(params)}\\n\")\n",
    "    \n",
    "#     model = TextClassificationModel(\n",
    "#         embed_dim,\n",
    "#         int(params['num_heads']),\n",
    "#         int(params['ff_dim']),\n",
    "#         max_seq_len,\n",
    "#         params['dropout'],\n",
    "#         int(params['num_transformer_blocks'])\n",
    "#     ).to(device)\n",
    "\n",
    "#     criterion = nn.BCEWithLogitsLoss()\n",
    "#     optimizer = optim.AdamW(model.parameters(), lr=params['learning_rate'], weight_decay=params['weight_decay'])\n",
    "\n",
    "#     for epoch in range(epochs):\n",
    "#         model.train()\n",
    "#         total_train_loss = 0\n",
    "\n",
    "#         for X_batch, y_batch in train_loader:\n",
    "#             X_batch, y_batch = X_batch.to(device), y_batch.to(device)\n",
    "\n",
    "#             optimizer.zero_grad()\n",
    "#             y_pred = model(X_batch).squeeze()\n",
    "#             loss = criterion(y_pred, y_batch.float())\n",
    "#             loss.backward()\n",
    "#             optimizer.step()\n",
    "#             total_train_loss += loss.item()\n",
    "\n",
    "#         model.eval()\n",
    "#         total_val_loss = 0\n",
    "#         total_val_accuracy = 0\n",
    "#         total_val_f1 = 0\n",
    "\n",
    "#         with torch.no_grad():\n",
    "#             for X_batch, y_batch in val_loader:\n",
    "#                 X_batch, y_batch = X_batch.to(device), y_batch.to(device)\n",
    "#                 y_pred = model(X_batch).squeeze()\n",
    "#                 loss = criterion(y_pred, y_batch.float())\n",
    "#                 total_val_loss += loss.item()\n",
    "\n",
    "#                 y_pred = torch.sigmoid(y_pred)\n",
    "#                 y_pred = torch.round(y_pred)\n",
    "#                 total_val_accuracy += accuracy_score(y_batch.tolist(), y_pred.tolist())\n",
    "#                 total_val_f1 += f1_score(y_batch.tolist(), y_pred.tolist())\n",
    "\n",
    "#         avg_val_loss = total_val_loss / len(val_loader)\n",
    "#         avg_val_accuracy = total_val_accuracy / len(val_loader)\n",
    "#         avg_val_f1 = total_val_f1 / len(val_loader)\n",
    "        \n",
    "#     with open(log_file_path, \"a\") as log_file:\n",
    "#         log_file.write(f\"Loss: {avg_val_loss}, Accuracy: {avg_val_accuracy}, F1: {avg_val_f1}\\n\")\n",
    "    \n",
    "#     return {'loss': avg_val_loss, 'status': STATUS_OK}\n",
    "\n",
    "# # Define the hyperparameter space\n",
    "# space = {\n",
    "#     'num_heads': hp.choice('num_heads', [2, 4, 8]),\n",
    "#     'ff_dim': hp.uniform('ff_dim', 8, 128),\n",
    "#     'dropout': hp.uniform('dropout', 0.1, 0.9),\n",
    "#     'learning_rate': hp.loguniform('learning_rate', -7, -2),\n",
    "#     'weight_decay': hp.loguniform('weight_decay', -7, -2),\n",
    "#     'num_transformer_blocks': hp.choice('num_transformer_blocks', [1, 2, 3])\n",
    "# }\n",
    "\n",
    "# # Run the optimization\n",
    "# trials = Trials()\n",
    "# best = fmin(fn=objective, space=space, algo=tpe.suggest, max_evals=100, trials=trials)\n",
    "\n",
    "# print(\"Best Hyperparameters:\", best)"
   ]
  },
  {
   "cell_type": "code",
   "execution_count": 21,
   "metadata": {},
   "outputs": [
    {
     "data": {
      "text/plain": [
       "TextClassificationModel(\n",
       "  (transformer_blocks): ModuleList(\n",
       "    (0-1): 2 x TransformerBlock(\n",
       "      (att): MultiheadAttention(\n",
       "        (out_proj): NonDynamicallyQuantizableLinear(in_features=200, out_features=200, bias=True)\n",
       "      )\n",
       "      (ffn): Sequential(\n",
       "        (0): Linear(in_features=200, out_features=80, bias=True)\n",
       "        (1): ReLU()\n",
       "        (2): Linear(in_features=80, out_features=200, bias=True)\n",
       "      )\n",
       "      (layernorm1): LayerNorm((200,), eps=1e-06, elementwise_affine=True)\n",
       "      (layernorm2): LayerNorm((200,), eps=1e-06, elementwise_affine=True)\n",
       "      (dropout1): Dropout(p=0.5, inplace=False)\n",
       "      (dropout2): Dropout(p=0.5, inplace=False)\n",
       "    )\n",
       "  )\n",
       "  (pooling): AdaptiveAvgPool1d(output_size=1)\n",
       "  (fc1): Linear(in_features=200, out_features=100, bias=True)\n",
       "  (batch_norm): BatchNorm1d(100, eps=1e-05, momentum=0.1, affine=True, track_running_stats=True)\n",
       "  (dropout): Dropout(p=0.29, inplace=False)\n",
       "  (fc2): Linear(in_features=100, out_features=1, bias=True)\n",
       ")"
      ]
     },
     "execution_count": 21,
     "metadata": {},
     "output_type": "execute_result"
    }
   ],
   "source": [
    "num_heads = 8\n",
    "ff_dim = 80\n",
    "max_seq_len = max_chunks\n",
    "dropout = 0.29\n",
    "num_transformer_blocks = 2\n",
    "learning_rate = 0.0009\n",
    "weight_decay = 0.002\n",
    "\n",
    "# num_heads_choices = [2, 4, 8]\n",
    "# num_transformer_blocks_choices = [1, 2, 3]\n",
    "\n",
    "\n",
    "# num_heads = num_heads_choices[best['num_heads']]\n",
    "# num_transformer_blocks = num_transformer_blocks_choices[best['num_transformer_blocks']]\n",
    "\n",
    "# ff_dim = int(best['ff_dim'])\n",
    "# dropout = round(best['dropout'], 2)\n",
    "# learning_rate = best['learning_rate']\n",
    "# weight_decay = best['weight_decay']\n",
    "\n",
    "# Create the model with the correct hyperparameters\n",
    "model = TextClassificationModel(embed_dim, num_heads, ff_dim, max_seq_len, dropout, num_transformer_blocks)\n",
    "model = model.to(device)\n",
    "\n",
    "# Define the optimizer\n",
    "optimizer = optim.AdamW(filter(lambda p: p.requires_grad, model.parameters()), lr=learning_rate, weight_decay=weight_decay)\n",
    "\n",
    "\n",
    "model"
   ]
  },
  {
   "cell_type": "code",
   "execution_count": 22,
   "metadata": {},
   "outputs": [
    {
     "name": "stdout",
     "output_type": "stream",
     "text": [
      "Using device: cuda\n",
      "----------\n"
     ]
    },
    {
     "name": "stderr",
     "output_type": "stream",
     "text": [
      "[Training] Epoch 0]:   0%|          | 0/23 [00:00<?, ?it/s]"
     ]
    },
    {
     "name": "stderr",
     "output_type": "stream",
     "text": [
      "[Training] Epoch 0]: 100%|██████████| 23/23 [00:03<00:00,  7.61it/s, training_loss=0.337, training_accuracy=0.865, training_f1=0.865]\n",
      "[Validation] Epoch 0]: 100%|██████████| 5/5 [00:00<00:00, 23.56it/s, validation_loss=0.845, validation_accuracy=0.246, validation_f1=0.242]\n"
     ]
    },
    {
     "name": "stdout",
     "output_type": "stream",
     "text": [
      "----------\n"
     ]
    },
    {
     "name": "stderr",
     "output_type": "stream",
     "text": [
      "[Training] Epoch 1]: 100%|██████████| 23/23 [00:03<00:00,  7.60it/s, training_loss=0.18, training_accuracy=0.951, training_f1=0.951] \n",
      "[Validation] Epoch 1]: 100%|██████████| 5/5 [00:00<00:00, 23.25it/s, validation_loss=1.86, validation_accuracy=0.278, validation_f1=0.289]\n"
     ]
    },
    {
     "name": "stdout",
     "output_type": "stream",
     "text": [
      "----------\n"
     ]
    },
    {
     "name": "stderr",
     "output_type": "stream",
     "text": [
      "[Training] Epoch 2]: 100%|██████████| 23/23 [00:03<00:00,  7.55it/s, training_loss=0.115, training_accuracy=0.973, training_f1=0.973]\n",
      "[Validation] Epoch 2]: 100%|██████████| 5/5 [00:00<00:00, 23.38it/s, validation_loss=0.052, validation_accuracy=0.988, validation_f1=0.988] \n"
     ]
    },
    {
     "name": "stdout",
     "output_type": "stream",
     "text": [
      "----------\n"
     ]
    },
    {
     "name": "stderr",
     "output_type": "stream",
     "text": [
      "[Training] Epoch 3]: 100%|██████████| 23/23 [00:03<00:00,  7.54it/s, training_loss=0.105, training_accuracy=0.967, training_f1=0.968]\n",
      "[Validation] Epoch 3]: 100%|██████████| 5/5 [00:00<00:00, 23.07it/s, validation_loss=1.26, validation_accuracy=0.608, validation_f1=0.669]\n"
     ]
    },
    {
     "name": "stdout",
     "output_type": "stream",
     "text": [
      "----------\n"
     ]
    },
    {
     "name": "stderr",
     "output_type": "stream",
     "text": [
      "[Training] Epoch 4]: 100%|██████████| 23/23 [00:03<00:00,  7.53it/s, training_loss=0.0985, training_accuracy=0.965, training_f1=0.965]\n",
      "[Validation] Epoch 4]: 100%|██████████| 5/5 [00:00<00:00, 23.40it/s, validation_loss=0.827, validation_accuracy=0.639, validation_f1=0.696]\n"
     ]
    },
    {
     "name": "stdout",
     "output_type": "stream",
     "text": [
      "----------\n"
     ]
    },
    {
     "name": "stderr",
     "output_type": "stream",
     "text": [
      "[Training] Epoch 5]: 100%|██████████| 23/23 [00:03<00:00,  7.53it/s, training_loss=0.0772, training_accuracy=0.978, training_f1=0.978]\n",
      "[Validation] Epoch 5]: 100%|██████████| 5/5 [00:00<00:00, 23.16it/s, validation_loss=0.0342, validation_accuracy=0.994, validation_f1=0.994]\n"
     ]
    },
    {
     "name": "stdout",
     "output_type": "stream",
     "text": [
      "----------\n"
     ]
    },
    {
     "name": "stderr",
     "output_type": "stream",
     "text": [
      "[Training] Epoch 6]: 100%|██████████| 23/23 [00:03<00:00,  7.50it/s, training_loss=0.085, training_accuracy=0.966, training_f1=0.967] \n",
      "[Validation] Epoch 6]: 100%|██████████| 5/5 [00:00<00:00, 23.29it/s, validation_loss=0.116, validation_accuracy=0.934, validation_f1=0.918] \n"
     ]
    },
    {
     "name": "stdout",
     "output_type": "stream",
     "text": [
      "----------\n"
     ]
    },
    {
     "name": "stderr",
     "output_type": "stream",
     "text": [
      "[Training] Epoch 7]: 100%|██████████| 23/23 [00:03<00:00,  7.51it/s, training_loss=0.0497, training_accuracy=0.988, training_f1=0.988]\n",
      "[Validation] Epoch 7]: 100%|██████████| 5/5 [00:00<00:00, 23.00it/s, validation_loss=0.0284, validation_accuracy=0.988, validation_f1=0.987]\n"
     ]
    },
    {
     "name": "stdout",
     "output_type": "stream",
     "text": [
      "----------\n"
     ]
    },
    {
     "name": "stderr",
     "output_type": "stream",
     "text": [
      "[Training] Epoch 8]: 100%|██████████| 23/23 [00:03<00:00,  7.49it/s, training_loss=0.048, training_accuracy=0.989, training_f1=0.989] \n",
      "[Validation] Epoch 8]: 100%|██████████| 5/5 [00:00<00:00, 23.07it/s, validation_loss=1.55, validation_accuracy=0.876, validation_f1=0.819]\n"
     ]
    },
    {
     "name": "stdout",
     "output_type": "stream",
     "text": [
      "----------\n"
     ]
    },
    {
     "name": "stderr",
     "output_type": "stream",
     "text": [
      "[Training] Epoch 9]: 100%|██████████| 23/23 [00:03<00:00,  7.48it/s, training_loss=0.0412, training_accuracy=0.987, training_f1=0.988]\n",
      "[Validation] Epoch 9]: 100%|██████████| 5/5 [00:00<00:00, 23.24it/s, validation_loss=5.53, validation_accuracy=0.155, validation_f1=0.0919]\n"
     ]
    },
    {
     "name": "stdout",
     "output_type": "stream",
     "text": [
      "----------\n"
     ]
    },
    {
     "name": "stderr",
     "output_type": "stream",
     "text": [
      "[Training] Epoch 10]: 100%|██████████| 23/23 [00:03<00:00,  7.46it/s, training_loss=0.0382, training_accuracy=0.989, training_f1=0.989]\n",
      "[Validation] Epoch 10]: 100%|██████████| 5/5 [00:00<00:00, 22.71it/s, validation_loss=1.9, validation_accuracy=0.537, validation_f1=0.606] \n"
     ]
    },
    {
     "name": "stdout",
     "output_type": "stream",
     "text": [
      "----------\n"
     ]
    },
    {
     "name": "stderr",
     "output_type": "stream",
     "text": [
      "[Training] Epoch 11]: 100%|██████████| 23/23 [00:03<00:00,  7.47it/s, training_loss=0.0278, training_accuracy=0.993, training_f1=0.993]\n",
      "[Validation] Epoch 11]: 100%|██████████| 5/5 [00:00<00:00, 23.21it/s, validation_loss=0.353, validation_accuracy=0.871, validation_f1=0.889]\n"
     ]
    },
    {
     "name": "stdout",
     "output_type": "stream",
     "text": [
      "----------\n"
     ]
    },
    {
     "name": "stderr",
     "output_type": "stream",
     "text": [
      "[Training] Epoch 12]: 100%|██████████| 23/23 [00:03<00:00,  7.44it/s, training_loss=0.135, training_accuracy=0.967, training_f1=0.974] \n",
      "[Validation] Epoch 12]: 100%|██████████| 5/5 [00:00<00:00, 23.00it/s, validation_loss=3.66, validation_accuracy=0.876, validation_f1=0.819]\n"
     ]
    },
    {
     "name": "stdout",
     "output_type": "stream",
     "text": [
      "----------\n"
     ]
    },
    {
     "name": "stderr",
     "output_type": "stream",
     "text": [
      "[Training] Epoch 13]: 100%|██████████| 23/23 [00:03<00:00,  7.44it/s, training_loss=0.128, training_accuracy=0.944, training_f1=0.946]\n",
      "[Validation] Epoch 13]: 100%|██████████| 5/5 [00:00<00:00, 23.23it/s, validation_loss=24.3, validation_accuracy=0.124, validation_f1=0.0331]\n"
     ]
    },
    {
     "name": "stdout",
     "output_type": "stream",
     "text": [
      "----------\n"
     ]
    },
    {
     "name": "stderr",
     "output_type": "stream",
     "text": [
      "[Training] Epoch 14]: 100%|██████████| 23/23 [00:03<00:00,  7.45it/s, training_loss=0.0567, training_accuracy=0.985, training_f1=0.985]\n",
      "[Validation] Epoch 14]: 100%|██████████| 5/5 [00:00<00:00, 23.33it/s, validation_loss=9.58, validation_accuracy=0.149, validation_f1=0.0812]\n"
     ]
    },
    {
     "name": "stdout",
     "output_type": "stream",
     "text": [
      "----------\n"
     ]
    },
    {
     "name": "stderr",
     "output_type": "stream",
     "text": [
      "[Training] Epoch 15]: 100%|██████████| 23/23 [00:03<00:00,  7.45it/s, training_loss=0.0313, training_accuracy=0.993, training_f1=0.993]\n",
      "[Validation] Epoch 15]: 100%|██████████| 5/5 [00:00<00:00, 22.78it/s, validation_loss=12.6, validation_accuracy=0.13, validation_f1=0.0453] \n"
     ]
    },
    {
     "name": "stdout",
     "output_type": "stream",
     "text": [
      "----------\n"
     ]
    },
    {
     "name": "stderr",
     "output_type": "stream",
     "text": [
      "[Training] Epoch 16]: 100%|██████████| 23/23 [00:03<00:00,  7.44it/s, training_loss=0.0374, training_accuracy=0.986, training_f1=0.987]\n",
      "[Validation] Epoch 16]: 100%|██████████| 5/5 [00:00<00:00, 23.27it/s, validation_loss=0.264, validation_accuracy=0.901, validation_f1=0.86] \n"
     ]
    },
    {
     "name": "stdout",
     "output_type": "stream",
     "text": [
      "----------\n"
     ]
    },
    {
     "name": "stderr",
     "output_type": "stream",
     "text": [
      "[Training] Epoch 17]: 100%|██████████| 23/23 [00:03<00:00,  7.45it/s, training_loss=0.0152, training_accuracy=1, training_f1=1]\n",
      "[Validation] Epoch 17]: 100%|██████████| 5/5 [00:00<00:00, 22.93it/s, validation_loss=0.0161, validation_accuracy=0.988, validation_f1=0.988]\n"
     ]
    },
    {
     "name": "stdout",
     "output_type": "stream",
     "text": [
      "----------\n"
     ]
    },
    {
     "name": "stderr",
     "output_type": "stream",
     "text": [
      "[Training] Epoch 18]: 100%|██████████| 23/23 [00:03<00:00,  7.45it/s, training_loss=0.0118, training_accuracy=1, training_f1=1]\n",
      "[Validation] Epoch 18]: 100%|██████████| 5/5 [00:00<00:00, 23.13it/s, validation_loss=0.119, validation_accuracy=0.969, validation_f1=0.971]\n"
     ]
    },
    {
     "name": "stdout",
     "output_type": "stream",
     "text": [
      "----------\n"
     ]
    },
    {
     "name": "stderr",
     "output_type": "stream",
     "text": [
      "[Training] Epoch 19]: 100%|██████████| 23/23 [00:03<00:00,  7.45it/s, training_loss=0.0135, training_accuracy=1, training_f1=1] \n",
      "[Validation] Epoch 19]: 100%|██████████| 5/5 [00:00<00:00, 23.04it/s, validation_loss=0.00816, validation_accuracy=1, validation_f1=1]\n"
     ]
    }
   ],
   "source": [
    "print(\"Using device:\", device)\n",
    "\n",
    "for epoch in range(epochs):\n",
    "    \n",
    "    print('-' * 10)\n",
    "    \n",
    "    total_train_loss = 0\n",
    "    total_train_accuracy = 0\n",
    "    total_train_f1 = 0\n",
    "    \n",
    "    model.train()\n",
    "\n",
    "    progress_bar = tqdm(enumerate(train_loader), total=len(train_loader))\n",
    "    \n",
    "    for i, batch in progress_bar:\n",
    "        progress_bar.set_description(f'[Training] Epoch {epoch}]')\n",
    "        \n",
    "        optimizer.zero_grad()\n",
    "        \n",
    "        X_batch, y_batch = batch\n",
    "        X_batch = X_batch.to(device)\n",
    "        y_batch = y_batch.to(device)\n",
    "        \n",
    "        y_pred = model(X_batch).squeeze() \n",
    "        \n",
    "        loss = criterion(y_pred, y_batch.float())\n",
    "        \n",
    "        loss.backward()\n",
    "        optimizer.step()\n",
    "        \n",
    "        y_pred = torch.sigmoid(y_pred)\n",
    "        y_pred = torch.round(y_pred)\n",
    "\n",
    "        total_train_loss += loss.item()\n",
    "        total_train_accuracy += accuracy_score(y_batch.tolist(), y_pred.detach().cpu().numpy().tolist())\n",
    "        total_train_f1 += f1_score(y_batch.tolist(), y_pred.detach().cpu().numpy().tolist(), average='weighted')\n",
    "        \n",
    "        progress_bar.set_postfix({'training_loss': total_train_loss / (i + 1), 'training_accuracy': total_train_accuracy / (i + 1), 'training_f1': total_train_f1 / (i + 1)})\n",
    "        \n",
    "    total_val_loss = 0\n",
    "    total_val_accuracy = 0\n",
    "    total_val_f1 = 0\n",
    "\n",
    "    model.eval()\n",
    "    \n",
    "    progress_bar = tqdm(enumerate(val_loader), total=len(val_loader))\n",
    "    \n",
    "    for i, batch in progress_bar:\n",
    "        progress_bar.set_description(f'[Validation] Epoch {epoch}]')\n",
    "        \n",
    "        X_batch, y_batch = batch\n",
    "        X_batch = X_batch.to(device)\n",
    "        y_batch = y_batch.to(device)\n",
    "        \n",
    "        with torch.no_grad():\n",
    "            y_pred = model(X_batch).squeeze() \n",
    "        \n",
    "        loss = criterion(y_pred, y_batch.float())\n",
    "        \n",
    "        y_pred = torch.sigmoid(y_pred)\n",
    "        y_pred = torch.round(y_pred)\n",
    "        \n",
    "        total_val_loss += loss.item()\n",
    "        total_val_accuracy += accuracy_score(y_batch.tolist(), y_pred.tolist())\n",
    "        total_val_f1 += f1_score(y_batch.tolist(), y_pred.tolist(), average='weighted')\n",
    "        \n",
    "        progress_bar.set_postfix({'validation_loss': total_val_loss / (i + 1), 'validation_accuracy': total_val_accuracy / (i + 1), 'validation_f1': total_val_f1 / (i + 1)})"
   ]
  },
  {
   "cell_type": "code",
   "execution_count": 23,
   "metadata": {},
   "outputs": [
    {
     "name": "stderr",
     "output_type": "stream",
     "text": [
      "Testing: 100%|██████████| 85/85 [00:04<00:00, 21.22it/s, testing_loss=0.0569]\n"
     ]
    },
    {
     "name": "stdout",
     "output_type": "stream",
     "text": [
      "Testing Accuracy: 0.9811529933481153\n",
      "Testing F1 Score: 0.9809487583345645\n",
      "              precision    recall  f1-score   support\n",
      "\n",
      "           0       0.99      0.99      0.99      2396\n",
      "           1       0.94      0.89      0.92       310\n",
      "\n",
      "    accuracy                           0.98      2706\n",
      "   macro avg       0.96      0.94      0.95      2706\n",
      "weighted avg       0.98      0.98      0.98      2706\n",
      "\n"
     ]
    },
    {
     "data": {
      "image/png": "[encoded data removed]",
      "text/plain": [
       "<Figure size 500x500 with 2 Axes>"
      ]
     },
     "metadata": {},
     "output_type": "display_data"
    }
   ],
   "source": [
    "# test the model\n",
    "model.eval()\n",
    "\n",
    "total_loss = 0\n",
    "all_labels = []\n",
    "all_predictions = []\n",
    "\n",
    "progress_bar = tqdm(enumerate(test_loader), total=len(test_loader))\n",
    "\n",
    "for i, batch in progress_bar:\n",
    "    progress_bar.set_description('Testing')\n",
    "    \n",
    "    X_batch, y_batch = batch\n",
    "    X_batch = X_batch.to(device)\n",
    "    y_batch = y_batch.to(device)\n",
    "    \n",
    "    with torch.no_grad():\n",
    "        y_pred = model(X_batch).squeeze() \n",
    "    \n",
    "    loss = criterion(y_pred, y_batch.float())\n",
    "    \n",
    "    y_pred = torch.sigmoid(y_pred)\n",
    "    y_pred = torch.round(y_pred)\n",
    "    \n",
    "    all_labels.extend(y_batch.tolist())\n",
    "    all_predictions.extend(y_pred.tolist())\n",
    "    \n",
    "    total_loss += loss.item()\n",
    "    \n",
    "    progress_bar.set_postfix({'testing_loss': total_loss / (i + 1)})\n",
    "\n",
    "# Calculate and print metrics after the loop\n",
    "total_accuracy = accuracy_score(all_labels, all_predictions)\n",
    "total_f1_weighted = f1_score(all_labels, all_predictions, average='weighted')\n",
    "\n",
    "print(f'Testing Accuracy: {total_accuracy}')\n",
    "print(f'Testing F1 Score: {total_f1_weighted}')\n",
    "print(classification_report(all_labels, all_predictions))\n",
    "\n",
    "# Confusion matrix\n",
    "cm = confusion_matrix(all_labels, all_predictions)\n",
    "plt.figure(figsize=(5, 5))\n",
    "sns.heatmap(cm, annot=True, fmt=\"d\")\n",
    "plt.title('Confusion matrix')\n",
    "plt.ylabel('Actual label')\n",
    "plt.xlabel('Predicted label')\n",
    "plt.show()"
   ]
  }
 ],
 "metadata": {
  "kernelspec": {
   "display_name": "base",
   "language": "python",
   "name": "python3"
  },
  "language_info": {
   "codemirror_mode": {
    "name": "ipython",
    "version": 3
   },
   "file_extension": ".py",
   "mimetype": "text/x-python",
   "name": "python",
   "nbconvert_exporter": "python",
   "pygments_lexer": "ipython3",
   "version": "3.9.18"
  }
 },
 "nbformat": 4,
 "nbformat_minor": 2
}
