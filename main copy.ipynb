{
 "cells": [
  {
   "cell_type": "code",
   "execution_count": 1,
   "metadata": {},
   "outputs": [],
   "source": [
    "import warnings\n",
    "\n",
    "warnings.filterwarnings('ignore')"
   ]
  },
  {
   "cell_type": "code",
   "execution_count": 2,
   "metadata": {},
   "outputs": [],
   "source": [
    "import pandas as pd\n",
    "import re\n",
    "import matplotlib.pyplot as plt\n",
    "import seaborn as sns\n",
    "from tqdm import tqdm\n",
    "from sklearn.model_selection import train_test_split, StratifiedShuffleSplit\n",
    "from sklearn.metrics import accuracy_score, f1_score, classification_report, roc_auc_score, confusion_matrix\n",
    "import numpy as np\n",
    "import torch\n",
    "import torch.nn as nn\n",
    "import torch.nn.functional as F\n",
    "from torch.utils.data import Dataset, DataLoader, TensorDataset\n",
    "import torch.optim as optim\n",
    "from torch.nn.utils.rnn import pad_sequence\n",
    "import math\n",
    "from pprint import pprint\n",
    "from collections import Counter\n",
    "import gensim\n",
    "\n",
    "\n",
    "from sklearn.utils.class_weight import compute_class_weight\n",
    "\n",
    "tqdm.pandas()"
   ]
  },
  {
   "cell_type": "code",
   "execution_count": 3,
   "metadata": {},
   "outputs": [],
   "source": [
    "data = pd.read_csv('data_m.csv')"
   ]
  },
  {
   "cell_type": "code",
   "execution_count": 8,
   "metadata": {},
   "outputs": [],
   "source": [
    "# data_0 = data[data['VAP'] == 0]\n",
    "# data_1 = data[data['VAP'] == 1]\n",
    "\n",
    "# # Count word frequencies in each class\n",
    "# counter_0 = Counter(word for text in data_0['TEXT'] for word in text.split())\n",
    "# counter_1 = Counter(word for text in data_1['TEXT'] for word in text.split())\n",
    "\n",
    "# # Find words that are common to both classes\n",
    "# common_words = set(counter_0.keys()).intersection(counter_1.keys())\n",
    "\n",
    "# # Set the threshold for word removal\n",
    "# threshold = 0.2\n",
    "\n",
    "# # Determine words to remove based on their frequency ratio\n",
    "# words_to_remove = {\n",
    "#     word for word in common_words\n",
    "#     if 1 - threshold <= (counter_1[word] / data_1.shape[0]) / (counter_0[word] / data_0.shape[0]) <= 1 + threshold\n",
    "# }\n",
    "\n",
    "# # Function to remove selected words\n",
    "# def remove_selected_words(text):\n",
    "#     return ' '.join(word for word in text.split() if word not in words_to_remove)\n",
    "\n",
    "# # Apply the function to the 'TEXT' column\n",
    "# data['TEXT'] = data['TEXT'].progress_apply(remove_selected_words)"
   ]
  },
  {
   "cell_type": "code",
   "execution_count": 4,
   "metadata": {},
   "outputs": [
    {
     "name": "stderr",
     "output_type": "stream",
     "text": [
      "  0%|          | 0/3558 [00:00<?, ?it/s]"
     ]
    },
    {
     "name": "stderr",
     "output_type": "stream",
     "text": [
      "100%|██████████| 3558/3558 [02:13<00:00, 26.56it/s] \n"
     ]
    }
   ],
   "source": [
    "def clean_text(text):\n",
    "    text = re.sub(r'[^a-zA-Z]', ' ', text)\n",
    "    text = re.sub(r'\\s+', ' ', text)\n",
    "    return text\n",
    "\n",
    "data['TEXT'] = data['TEXT'].progress_apply(clean_text)"
   ]
  },
  {
   "cell_type": "code",
   "execution_count": 5,
   "metadata": {},
   "outputs": [],
   "source": [
    "# remove rows with empty text\n",
    "data = data[data['TEXT'] != '']\n",
    "\n",
    "# reindex the DataFrame\n",
    "data = data.reset_index(drop=True)"
   ]
  },
  {
   "cell_type": "code",
   "execution_count": 6,
   "metadata": {},
   "outputs": [
    {
     "data": {
      "text/plain": [
       "<Axes: ylabel='VAP'>"
      ]
     },
     "execution_count": 6,
     "metadata": {},
     "output_type": "execute_result"
    },
    {
     "data": {
      "image/png": "[encoded data removed]",
      "text/plain": [
       "<Figure size 640x480 with 1 Axes>"
      ]
     },
     "metadata": {},
     "output_type": "display_data"
    }
   ],
   "source": [
    "# # create a new dataframe that contains as much data from each class as the number of rows in the class with the least rows\n",
    "# data_balanced = pd.concat([data[data['VAP'] == 0].sample(data[data['VAP'] == 1].shape[0], random_state=42), data[data['VAP'] == 1]])\n",
    "# data = data_balanced\n",
    "# pie chart of Label\n",
    "data['VAP'].value_counts().plot.pie(autopct='%1.1f%%')"
   ]
  },
  {
   "cell_type": "code",
   "execution_count": 7,
   "metadata": {},
   "outputs": [
    {
     "name": "stdout",
     "output_type": "stream",
     "text": [
      "Average words per text: 29469.225126475547\n",
      "Average words per text class 0: 36041.141119221415\n",
      "Average words per text class 1: 1705.051395007342\n"
     ]
    }
   ],
   "source": [
    "# Load the embedding model\n",
    "embedding_model = gensim.models.KeyedVectors.load_word2vec_format(\"bio.bin\", binary=True)\n",
    "\n",
    "# Create a set of words present in the embedding model for faster lookup\n",
    "words_in_model = set(embedding_model.key_to_index)\n",
    "\n",
    "# Function to calculate the average number of words per text\n",
    "def average_words(text_series):\n",
    "    return text_series.str.split().apply(lambda words: len([word for word in words if word in words_in_model])).mean()\n",
    "\n",
    "# Calculate averages\n",
    "average_words_per_text = average_words(data['TEXT'])\n",
    "print(f'Average words per text: {average_words_per_text}')\n",
    "\n",
    "average_words_per_text_class_0 = average_words(data[data['VAP'] == 0]['TEXT'])\n",
    "print(f'Average words per text class 0: {average_words_per_text_class_0}')\n",
    "\n",
    "average_words_per_text_class_1 = average_words(data[data['VAP'] == 1]['TEXT'])\n",
    "print(f'Average words per text class 1: {average_words_per_text_class_1}')"
   ]
  },
  {
   "cell_type": "code",
   "execution_count": 8,
   "metadata": {},
   "outputs": [],
   "source": [
    "chunk_size = 32\n",
    "max_chunks = 768"
   ]
  },
  {
   "cell_type": "code",
   "execution_count": 9,
   "metadata": {},
   "outputs": [
    {
     "name": "stderr",
     "output_type": "stream",
     "text": [
      "100%|██████████| 3558/3558 [02:35<00:00, 22.86it/s] \n"
     ]
    }
   ],
   "source": [
    "# creating a matrix of word embeddings using the cleaned data and the BioWordVec model\n",
    "embedding_model = gensim.models.KeyedVectors.load_word2vec_format(\"bio.bin\", binary=True)\n",
    "embed_dim = embedding_model.vector_size\n",
    "\n",
    "def split_into_chunks(text, chunk_size=200):\n",
    "    words = text.split()\n",
    "    return [' '.join(words[i:i+chunk_size]) for i in range(0, len(words), chunk_size)]\n",
    "\n",
    "def average_embeddings_for_chunk(chunk, embedding_model):\n",
    "    embeddings = []\n",
    "    for word in chunk.split():\n",
    "        try:\n",
    "            embeddings.append(embedding_model[word])\n",
    "        except KeyError:\n",
    "            pass\n",
    "    if embeddings:\n",
    "        return np.mean(embeddings, axis=0)\n",
    "    else:\n",
    "        return np.zeros(embedding_model.vector_size)  # Return zero vector if no words found\n",
    "\n",
    "def process_text(text, embedding_model, chunk_size=200, max_chunks=256):\n",
    "    chunks = split_into_chunks(text, chunk_size)\n",
    "    chunk_embeddings = [average_embeddings_for_chunk(chunk, embedding_model) for chunk in chunks[:max_chunks]]\n",
    "    # Pad with zeros if there are fewer chunks than max_chunks\n",
    "    while len(chunk_embeddings) < max_chunks:\n",
    "        chunk_embeddings.append(np.zeros(embedding_model.vector_size))\n",
    "    return chunk_embeddings\n",
    "\n",
    "# Apply the processing to each row in the DataFrame\n",
    "chunks_of_embeddings = data['TEXT'].progress_apply(lambda text: process_text(text, embedding_model, chunk_size, max_chunks))"
   ]
  },
  {
   "cell_type": "code",
   "execution_count": 10,
   "metadata": {},
   "outputs": [],
   "source": [
    "# Separate the data by class\n",
    "class_0 = chunks_of_embeddings[data['VAP'] == 0]\n",
    "class_1 = chunks_of_embeddings[data['VAP'] == 1]\n",
    "\n",
    "# Determine the number of samples per class for the training set (15% of total data for each class)\n",
    "n_samples = int(0.10 * len(chunks_of_embeddings))\n",
    "\n",
    "# Sample from each class\n",
    "train_0 = class_0.sample(n=n_samples, random_state=42)\n",
    "train_1 = class_1.sample(n=n_samples, random_state=42)\n",
    "\n",
    "# Combine to form the training set\n",
    "X_train = pd.concat([train_0, train_1])\n",
    "y_train = data['VAP'].loc[X_train.index]\n",
    "\n",
    "# Remove the training data from the dataset\n",
    "remaining_data = chunks_of_embeddings.drop(X_train.index)\n",
    "remaining_target = data['VAP'].drop(X_train.index)\n",
    "\n",
    "# Split the remaining data into validation and test sets (50-50 split)\n",
    "X_val, X_test, y_val, y_test = train_test_split(remaining_data, remaining_target, test_size=0.95, random_state=42, stratify=remaining_target)"
   ]
  },
  {
   "cell_type": "code",
   "execution_count": 11,
   "metadata": {},
   "outputs": [
    {
     "name": "stdout",
     "output_type": "stream",
     "text": [
      "Number of training samples: 710\n",
      "Number of validation samples: 142\n",
      "Number of test samples: 2706\n"
     ]
    }
   ],
   "source": [
    "print(f'Number of training samples: {len(X_train)}')\n",
    "print(f'Number of validation samples: {len(X_val)}')\n",
    "print(f'Number of test samples: {len(X_test)}')"
   ]
  },
  {
   "cell_type": "code",
   "execution_count": 12,
   "metadata": {},
   "outputs": [],
   "source": [
    "# Function to convert embeddings and labels to tensors\n",
    "def embeddings_to_tensor(embeddings):\n",
    "    return torch.tensor(embeddings, dtype=torch.float32)\n",
    "\n",
    "# Convert embeddings and labels to tensors\n",
    "X_train_tensor = embeddings_to_tensor(X_train.to_list())\n",
    "X_val_tensor = embeddings_to_tensor(X_val.to_list())\n",
    "X_test_tensor = embeddings_to_tensor(X_test.to_list())\n",
    "\n",
    "y_train_tensor = torch.tensor(y_train.values, dtype=torch.long)\n",
    "y_val_tensor = torch.tensor(y_val.values, dtype=torch.long)\n",
    "y_test_tensor = torch.tensor(y_test.values, dtype=torch.long)"
   ]
  },
  {
   "cell_type": "code",
   "execution_count": 13,
   "metadata": {},
   "outputs": [],
   "source": [
    "train_data = TensorDataset(X_train_tensor, y_train_tensor)\n",
    "val_data = TensorDataset(X_val_tensor, y_val_tensor)\n",
    "test_data = TensorDataset(X_test_tensor, y_test_tensor)\n",
    "\n",
    "batch_size = 32\n",
    "\n",
    "train_loader = DataLoader(train_data, batch_size=batch_size, shuffle=True)\n",
    "val_loader = DataLoader(val_data, batch_size=batch_size, shuffle=False)\n",
    "test_loader = DataLoader(test_data, batch_size=batch_size, shuffle=False)"
   ]
  },
  {
   "cell_type": "code",
   "execution_count": 20,
   "metadata": {},
   "outputs": [],
   "source": [
    "class TransformerBlock(nn.Module):\n",
    "    def __init__(self, embed_dim, num_heads, ff_dim, dropout=0.5):\n",
    "        super(TransformerBlock, self).__init__()\n",
    "        self.att = nn.MultiheadAttention(embed_dim, num_heads)\n",
    "        self.ffn = nn.Sequential(\n",
    "            nn.Linear(embed_dim, ff_dim),\n",
    "            nn.ReLU(),\n",
    "            nn.Linear(ff_dim, embed_dim),\n",
    "        )\n",
    "        self.layernorm1 = nn.LayerNorm(embed_dim, eps=1e-6)\n",
    "        self.layernorm2 = nn.LayerNorm(embed_dim, eps=1e-6)\n",
    "        self.dropout1 = nn.Dropout(dropout)\n",
    "        self.dropout2 = nn.Dropout(dropout)\n",
    "\n",
    "    def forward(self, inputs):\n",
    "        # Permute to [sequence_length, batch_size, hidden_size]\n",
    "        inputs_perm = inputs.permute(1, 0, 2)\n",
    "        attn_output, _ = self.att(inputs_perm, inputs_perm, inputs_perm)\n",
    "        # Back to [batch_size, sequence_length, hidden_size]\n",
    "        attn_output = attn_output.permute(1, 0, 2)\n",
    "        attn_output = self.dropout1(attn_output)\n",
    "        out1 = self.layernorm1(inputs + attn_output)\n",
    "        ffn_output = self.ffn(out1)\n",
    "        ffn_output = self.dropout2(ffn_output)\n",
    "        return self.layernorm2(out1 + ffn_output)\n",
    "\n",
    "class TextClassificationModel(nn.Module):\n",
    "    def __init__(self, embed_dim, num_heads, ff_dim, max_seq_len, dropout=0.7, num_transformer_blocks=2):\n",
    "        super(TextClassificationModel, self).__init__()\n",
    "        \n",
    "        # Creating multiple Transformer Blocks\n",
    "        self.transformer_blocks = nn.ModuleList([\n",
    "            TransformerBlock(embed_dim, num_heads, ff_dim)\n",
    "            for _ in range(num_transformer_blocks)\n",
    "        ])\n",
    "        \n",
    "        # Pooling Layer\n",
    "        self.pooling = nn.AdaptiveAvgPool1d(1)\n",
    "\n",
    "        # Additional Linear, BatchNorm, and Dropout Layers\n",
    "        self.fc1 = nn.Linear(embed_dim, embed_dim // 2)\n",
    "        self.batch_norm = nn.BatchNorm1d(embed_dim // 2)\n",
    "        self.dropout = nn.Dropout(dropout)\n",
    "\n",
    "        # Final Fully Connected Layer for Classification\n",
    "        self.fc2 = nn.Linear(embed_dim // 2, 1)\n",
    "        \n",
    "        # Positional Encoding Layer\n",
    "        self.positional_encoding = self.create_positional_encoding(max_seq_len, embed_dim)\n",
    "    \n",
    "    \n",
    "    def forward(self, x):\n",
    "        seq_len = x.size(1)\n",
    "\n",
    "        # Get the positional encoding for the sequence length\n",
    "        scaled_pos_encoding = self.positional_encoding[:seq_len, :]\n",
    "        scaled_pos_encoding = scaled_pos_encoding.to(x.device)\n",
    "        scaled_pos_encoding = scaled_pos_encoding.unsqueeze(0).expand(x.size(0), -1, -1)\n",
    "\n",
    "        # Adding positional encoding\n",
    "        x = x + scaled_pos_encoding\n",
    "\n",
    "        # Passing input through each Transformer block sequentially\n",
    "        for transformer_block in self.transformer_blocks:\n",
    "            x = transformer_block(x)\n",
    "        \n",
    "        # Pooling\n",
    "        x = x.permute(0, 2, 1)  \n",
    "        x = self.pooling(x).squeeze(-1)\n",
    "        \n",
    "        # Passing through the first linear layer, batch norm, and dropout\n",
    "        x = F.relu(self.fc1(x))\n",
    "        x = self.batch_norm(x)\n",
    "        x = self.dropout(x)\n",
    "\n",
    "        # Final Classification\n",
    "        x = self.fc2(x)\n",
    "        return x\n",
    "\n",
    "    def create_positional_encoding(self, max_seq_len, embed_dim):\n",
    "        position = torch.arange(0, max_seq_len, dtype=torch.float).unsqueeze(1)\n",
    "        div_term = torch.exp(torch.arange(0, embed_dim, 2).float() * (-math.log(10000.0) / embed_dim))\n",
    "        positional_encoding = torch.zeros(max_seq_len, embed_dim)\n",
    "        positional_encoding[:, 0::2] = torch.sin(position * div_term)\n",
    "        positional_encoding[:, 1::2] = torch.cos(position * div_term)\n",
    "        return positional_encoding"
   ]
  },
  {
   "cell_type": "code",
   "execution_count": 14,
   "metadata": {},
   "outputs": [],
   "source": [
    "# define the device\n",
    "device = torch.device('cuda' if torch.cuda.is_available() else 'cpu')\n",
    "\n",
    "# # Calculate class weights\n",
    "# class_weight = compute_class_weight('balanced', classes=[0, 1], y=y_train)\n",
    "# class_weight_ratio = class_weight[1] / class_weight[0]\n",
    "# class_weights_tensor = torch.tensor(class_weight_ratio, dtype=torch.float32, device=device)\n",
    "\n",
    "# Update the loss function to include class weights\n",
    "criterion = nn.BCEWithLogitsLoss()\n",
    "\n",
    "max_seq_len = max_chunks\n",
    "epochs = 25"
   ]
  },
  {
   "cell_type": "code",
   "execution_count": null,
   "metadata": {},
   "outputs": [
    {
     "name": "stdout",
     "output_type": "stream",
     "text": [
      "100%|██████████| 100/100 [1:19:01<00:00, 47.41s/trial, best loss: 0.010407200627378188]\n",
      "Best Hyperparameters: {'dropout': 0.46094376887162336, 'ff_dim': 56.00981762367017, 'learning_rate': 0.01837600770292798, 'num_heads': 2, 'num_transformer_blocks': 0, 'weight_decay': 0.0021571100802206134}\n"
     ]
    }
   ],
   "source": [
    "# from hyperopt import fmin, tpe, hp, STATUS_OK, Trials\n",
    "# import json\n",
    "\n",
    "# # Define a global variable for the log file\n",
    "# log_file_path = \"hyperopt_log.txt\"\n",
    "\n",
    "# # Define the objective function\n",
    "# def objective(params):\n",
    "#     with open(log_file_path, \"a\") as log_file:\n",
    "#         log_file.write(f\"Trial params: {json.dumps(params)}\\n\")\n",
    "    \n",
    "#     model = TextClassificationModel(\n",
    "#         embed_dim,\n",
    "#         int(params['num_heads']),\n",
    "#         int(params['ff_dim']),\n",
    "#         max_seq_len,\n",
    "#         params['dropout'],\n",
    "#         int(params['num_transformer_blocks'])\n",
    "#     ).to(device)\n",
    "\n",
    "#     criterion = nn.BCEWithLogitsLoss()\n",
    "#     optimizer = optim.AdamW(model.parameters(), lr=params['learning_rate'], weight_decay=params['weight_decay'])\n",
    "\n",
    "#     for epoch in range(epochs):\n",
    "#         model.train()\n",
    "#         total_train_loss = 0\n",
    "\n",
    "#         for X_batch, y_batch in train_loader:\n",
    "#             X_batch, y_batch = X_batch.to(device), y_batch.to(device)\n",
    "\n",
    "#             optimizer.zero_grad()\n",
    "#             y_pred = model(X_batch).squeeze()\n",
    "#             loss = criterion(y_pred, y_batch.float())\n",
    "#             loss.backward()\n",
    "#             optimizer.step()\n",
    "#             total_train_loss += loss.item()\n",
    "\n",
    "#         model.eval()\n",
    "#         total_val_loss = 0\n",
    "#         total_val_accuracy = 0\n",
    "#         total_val_f1 = 0\n",
    "\n",
    "#         with torch.no_grad():\n",
    "#             for X_batch, y_batch in val_loader:\n",
    "#                 X_batch, y_batch = X_batch.to(device), y_batch.to(device)\n",
    "#                 y_pred = model(X_batch).squeeze()\n",
    "#                 loss = criterion(y_pred, y_batch.float())\n",
    "#                 total_val_loss += loss.item()\n",
    "\n",
    "#                 y_pred = torch.sigmoid(y_pred)\n",
    "#                 y_pred = torch.round(y_pred)\n",
    "#                 total_val_accuracy += accuracy_score(y_batch.tolist(), y_pred.tolist())\n",
    "#                 total_val_f1 += f1_score(y_batch.tolist(), y_pred.tolist())\n",
    "\n",
    "#         avg_val_loss = total_val_loss / len(val_loader)\n",
    "#         avg_val_accuracy = total_val_accuracy / len(val_loader)\n",
    "#         avg_val_f1 = total_val_f1 / len(val_loader)\n",
    "        \n",
    "#     with open(log_file_path, \"a\") as log_file:\n",
    "#         log_file.write(f\"Loss: {avg_val_loss}, Accuracy: {avg_val_accuracy}, F1: {avg_val_f1}\\n\")\n",
    "    \n",
    "#     return {'loss': avg_val_loss, 'status': STATUS_OK}\n",
    "\n",
    "# # Define the hyperparameter space\n",
    "# space = {\n",
    "#     'num_heads': hp.choice('num_heads', [2, 4, 8]),\n",
    "#     'ff_dim': hp.uniform('ff_dim', 8, 128),\n",
    "#     'dropout': hp.uniform('dropout', 0.1, 0.9),\n",
    "#     'learning_rate': hp.loguniform('learning_rate', -7, -2),\n",
    "#     'weight_decay': hp.loguniform('weight_decay', -7, -2),\n",
    "#     'num_transformer_blocks': hp.choice('num_transformer_blocks', [1, 2, 3])\n",
    "# }\n",
    "\n",
    "# # Run the optimization\n",
    "# trials = Trials()\n",
    "# best = fmin(fn=objective, space=space, algo=tpe.suggest, max_evals=100, trials=trials)\n",
    "\n",
    "# print(\"Best Hyperparameters:\", best)"
   ]
  },
  {
   "cell_type": "code",
   "execution_count": 16,
   "metadata": {},
   "outputs": [],
   "source": [
    "num_heads = 8\n",
    "ff_dim = 80\n",
    "max_seq_len = max_chunks\n",
    "dropout = 0.29\n",
    "num_transformer_blocks = 2\n",
    "learning_rate = 0.0009\n",
    "weight_decay = 0.002\n",
    "\n",
    "# num_heads_choices = [2, 4, 8]\n",
    "# num_transformer_blocks_choices = [1, 2, 3]\n",
    "\n",
    "\n",
    "# num_heads = num_heads_choices[best['num_heads']]\n",
    "# num_transformer_blocks = num_transformer_blocks_choices[best['num_transformer_blocks']]\n",
    "\n",
    "# ff_dim = int(best['ff_dim'])\n",
    "# dropout = round(best['dropout'], 2)\n",
    "# learning_rate = best['learning_rate']\n",
    "# weight_decay = best['weight_decay']\n",
    "\n",
    "# Create the model with the correct hyperparameters\n",
    "#model = TextClassificationModel(embed_dim, num_heads, ff_dim, max_seq_len, dropout, num_transformer_blocks)\n",
    "#model = model.to(device)\n",
    "\n",
    "# Define the optimizer\n",
    "#optimizer = optim.AdamW(filter(lambda p: p.requires_grad, model.parameters()), lr=learning_rate, weight_decay=weight_decay)\n",
    "\n",
    "\n",
    "#model"
   ]
  },
  {
   "cell_type": "code",
   "execution_count": 23,
   "metadata": {},
   "outputs": [
    {
     "name": "stdout",
     "output_type": "stream",
     "text": [
      "Using device: cpu\n",
      "----------\n"
     ]
    },
    {
     "name": "stderr",
     "output_type": "stream",
     "text": [
      "[Training] Epoch 0]: 100%|██████████| 23/23 [01:44<00:00,  4.55s/it, training_loss=0.366, training_accuracy=0.851, training_f1=0.85] \n",
      "[Validation] Epoch 0]: 100%|██████████| 5/5 [00:11<00:00,  2.38s/it, validation_loss=0.431, validation_accuracy=0.871, validation_f1=0.891]\n"
     ]
    },
    {
     "name": "stdout",
     "output_type": "stream",
     "text": [
      "----------\n"
     ]
    },
    {
     "name": "stderr",
     "output_type": "stream",
     "text": [
      "[Training] Epoch 1]: 100%|██████████| 23/23 [01:41<00:00,  4.39s/it, training_loss=0.183, training_accuracy=0.959, training_f1=0.959]\n",
      "[Validation] Epoch 1]: 100%|██████████| 5/5 [00:11<00:00,  2.39s/it, validation_loss=0.189, validation_accuracy=0.938, validation_f1=0.945]\n"
     ]
    },
    {
     "name": "stdout",
     "output_type": "stream",
     "text": [
      "----------\n"
     ]
    },
    {
     "name": "stderr",
     "output_type": "stream",
     "text": [
      "[Training] Epoch 2]: 100%|██████████| 23/23 [01:41<00:00,  4.42s/it, training_loss=0.125, training_accuracy=0.97, training_f1=0.97]  \n",
      "[Validation] Epoch 2]: 100%|██████████| 5/5 [00:11<00:00,  2.34s/it, validation_loss=0.0367, validation_accuracy=0.994, validation_f1=0.994]\n"
     ]
    },
    {
     "name": "stdout",
     "output_type": "stream",
     "text": [
      "----------\n"
     ]
    },
    {
     "name": "stderr",
     "output_type": "stream",
     "text": [
      "[Training] Epoch 3]: 100%|██████████| 23/23 [01:40<00:00,  4.35s/it, training_loss=0.118, training_accuracy=0.961, training_f1=0.961]\n",
      "[Validation] Epoch 3]: 100%|██████████| 5/5 [00:11<00:00,  2.33s/it, validation_loss=0.275, validation_accuracy=0.931, validation_f1=0.94] \n"
     ]
    },
    {
     "name": "stdout",
     "output_type": "stream",
     "text": [
      "----------\n"
     ]
    },
    {
     "name": "stderr",
     "output_type": "stream",
     "text": [
      "[Training] Epoch 4]: 100%|██████████| 23/23 [01:41<00:00,  4.43s/it, training_loss=0.0911, training_accuracy=0.973, training_f1=0.973]\n",
      "[Validation] Epoch 4]: 100%|██████████| 5/5 [00:12<00:00,  2.49s/it, validation_loss=0.0491, validation_accuracy=0.988, validation_f1=0.988]\n"
     ]
    },
    {
     "name": "stdout",
     "output_type": "stream",
     "text": [
      "----------\n"
     ]
    },
    {
     "name": "stderr",
     "output_type": "stream",
     "text": [
      "[Training] Epoch 5]: 100%|██████████| 23/23 [01:44<00:00,  4.53s/it, training_loss=0.0807, training_accuracy=0.978, training_f1=0.979]\n",
      "[Validation] Epoch 5]: 100%|██████████| 5/5 [00:11<00:00,  2.30s/it, validation_loss=0.25, validation_accuracy=0.876, validation_f1=0.819] \n"
     ]
    },
    {
     "name": "stdout",
     "output_type": "stream",
     "text": [
      "----------\n"
     ]
    },
    {
     "name": "stderr",
     "output_type": "stream",
     "text": [
      "[Training] Epoch 6]: 100%|██████████| 23/23 [01:36<00:00,  4.18s/it, training_loss=0.0549, training_accuracy=0.984, training_f1=0.984]\n",
      "[Validation] Epoch 6]: 100%|██████████| 5/5 [00:11<00:00,  2.29s/it, validation_loss=0.047, validation_accuracy=0.988, validation_f1=0.988] \n"
     ]
    },
    {
     "name": "stdout",
     "output_type": "stream",
     "text": [
      "----------\n"
     ]
    },
    {
     "name": "stderr",
     "output_type": "stream",
     "text": [
      "[Training] Epoch 7]: 100%|██████████| 23/23 [01:41<00:00,  4.39s/it, training_loss=0.0541, training_accuracy=0.985, training_f1=0.985]\n",
      "[Validation] Epoch 7]: 100%|██████████| 5/5 [00:10<00:00,  2.09s/it, validation_loss=0.0161, validation_accuracy=0.994, validation_f1=0.994]\n"
     ]
    },
    {
     "name": "stdout",
     "output_type": "stream",
     "text": [
      "----------\n"
     ]
    },
    {
     "name": "stderr",
     "output_type": "stream",
     "text": [
      "[Training] Epoch 8]: 100%|██████████| 23/23 [01:28<00:00,  3.86s/it, training_loss=0.0493, training_accuracy=0.988, training_f1=0.988]\n",
      "[Validation] Epoch 8]: 100%|██████████| 5/5 [00:10<00:00,  2.14s/it, validation_loss=1.63, validation_accuracy=0.876, validation_f1=0.819]\n"
     ]
    },
    {
     "name": "stdout",
     "output_type": "stream",
     "text": [
      "----------\n"
     ]
    },
    {
     "name": "stderr",
     "output_type": "stream",
     "text": [
      "[Training] Epoch 9]: 100%|██████████| 23/23 [01:29<00:00,  3.90s/it, training_loss=0.0591, training_accuracy=0.977, training_f1=0.977]\n",
      "[Validation] Epoch 9]: 100%|██████████| 5/5 [00:10<00:00,  2.16s/it, validation_loss=1.43, validation_accuracy=0.464, validation_f1=0.523]\n"
     ]
    },
    {
     "name": "stdout",
     "output_type": "stream",
     "text": [
      "----------\n"
     ]
    },
    {
     "name": "stderr",
     "output_type": "stream",
     "text": [
      "[Training] Epoch 10]: 100%|██████████| 23/23 [01:33<00:00,  4.08s/it, training_loss=0.0346, training_accuracy=0.989, training_f1=0.989]\n",
      "[Validation] Epoch 10]: 100%|██████████| 5/5 [00:10<00:00,  2.20s/it, validation_loss=0.404, validation_accuracy=0.876, validation_f1=0.819]\n"
     ]
    },
    {
     "name": "stdout",
     "output_type": "stream",
     "text": [
      "----------\n"
     ]
    },
    {
     "name": "stderr",
     "output_type": "stream",
     "text": [
      "[Training] Epoch 11]: 100%|██████████| 23/23 [01:29<00:00,  3.88s/it, training_loss=0.0352, training_accuracy=0.988, training_f1=0.988]\n",
      "[Validation] Epoch 11]: 100%|██████████| 5/5 [00:10<00:00,  2.10s/it, validation_loss=0.0216, validation_accuracy=0.994, validation_f1=0.993]\n"
     ]
    },
    {
     "name": "stdout",
     "output_type": "stream",
     "text": [
      "----------\n"
     ]
    },
    {
     "name": "stderr",
     "output_type": "stream",
     "text": [
      "[Training] Epoch 12]: 100%|██████████| 23/23 [01:43<00:00,  4.50s/it, training_loss=0.0695, training_accuracy=0.98, training_f1=0.982] \n",
      "[Validation] Epoch 12]: 100%|██████████| 5/5 [00:12<00:00,  2.56s/it, validation_loss=0.0376, validation_accuracy=0.988, validation_f1=0.986]\n"
     ]
    },
    {
     "name": "stdout",
     "output_type": "stream",
     "text": [
      "----------\n"
     ]
    },
    {
     "name": "stderr",
     "output_type": "stream",
     "text": [
      "[Training] Epoch 13]: 100%|██████████| 23/23 [01:43<00:00,  4.50s/it, training_loss=0.053, training_accuracy=0.988, training_f1=0.988] \n",
      "[Validation] Epoch 13]: 100%|██████████| 5/5 [00:12<00:00,  2.43s/it, validation_loss=0.27, validation_accuracy=0.876, validation_f1=0.819] \n"
     ]
    },
    {
     "name": "stdout",
     "output_type": "stream",
     "text": [
      "----------\n"
     ]
    },
    {
     "name": "stderr",
     "output_type": "stream",
     "text": [
      "[Training] Epoch 14]: 100%|██████████| 23/23 [01:44<00:00,  4.53s/it, training_loss=0.034, training_accuracy=0.99, training_f1=0.991]  \n",
      "[Validation] Epoch 14]: 100%|██████████| 5/5 [00:12<00:00,  2.43s/it, validation_loss=0.0873, validation_accuracy=0.969, validation_f1=0.959]\n"
     ]
    },
    {
     "name": "stdout",
     "output_type": "stream",
     "text": [
      "----------\n"
     ]
    },
    {
     "name": "stderr",
     "output_type": "stream",
     "text": [
      "[Training] Epoch 15]: 100%|██████████| 23/23 [01:41<00:00,  4.40s/it, training_loss=0.021, training_accuracy=0.996, training_f1=0.996] \n",
      "[Validation] Epoch 15]: 100%|██████████| 5/5 [00:11<00:00,  2.37s/it, validation_loss=0.0932, validation_accuracy=0.969, validation_f1=0.964]\n"
     ]
    },
    {
     "name": "stdout",
     "output_type": "stream",
     "text": [
      "----------\n"
     ]
    },
    {
     "name": "stderr",
     "output_type": "stream",
     "text": [
      "[Training] Epoch 16]: 100%|██████████| 23/23 [01:40<00:00,  4.38s/it, training_loss=0.0362, training_accuracy=0.99, training_f1=0.991] \n",
      "[Validation] Epoch 16]: 100%|██████████| 5/5 [00:12<00:00,  2.41s/it, validation_loss=2.51, validation_accuracy=0.402, validation_f1=0.454]\n"
     ]
    },
    {
     "name": "stdout",
     "output_type": "stream",
     "text": [
      "----------\n"
     ]
    },
    {
     "name": "stderr",
     "output_type": "stream",
     "text": [
      "[Training] Epoch 17]: 100%|██████████| 23/23 [01:40<00:00,  4.37s/it, training_loss=0.0586, training_accuracy=0.978, training_f1=0.978]\n",
      "[Validation] Epoch 17]: 100%|██████████| 5/5 [00:12<00:00,  2.46s/it, validation_loss=5.34, validation_accuracy=0.137, validation_f1=0.0567] \n"
     ]
    },
    {
     "name": "stdout",
     "output_type": "stream",
     "text": [
      "----------\n"
     ]
    },
    {
     "name": "stderr",
     "output_type": "stream",
     "text": [
      "[Training] Epoch 18]: 100%|██████████| 23/23 [01:39<00:00,  4.33s/it, training_loss=0.0544, training_accuracy=0.985, training_f1=0.985]\n",
      "[Validation] Epoch 18]: 100%|██████████| 5/5 [00:11<00:00,  2.36s/it, validation_loss=0.107, validation_accuracy=0.975, validation_f1=0.977]\n"
     ]
    },
    {
     "name": "stdout",
     "output_type": "stream",
     "text": [
      "----------\n"
     ]
    },
    {
     "name": "stderr",
     "output_type": "stream",
     "text": [
      "[Training] Epoch 19]: 100%|██████████| 23/23 [01:39<00:00,  4.33s/it, training_loss=0.0276, training_accuracy=0.996, training_f1=0.996]\n",
      "[Validation] Epoch 19]: 100%|██████████| 5/5 [00:11<00:00,  2.22s/it, validation_loss=0.428, validation_accuracy=0.863, validation_f1=0.882]\n"
     ]
    },
    {
     "name": "stdout",
     "output_type": "stream",
     "text": [
      "----------\n"
     ]
    },
    {
     "name": "stderr",
     "output_type": "stream",
     "text": [
      "[Training] Epoch 20]: 100%|██████████| 23/23 [01:32<00:00,  4.02s/it, training_loss=0.0233, training_accuracy=0.993, training_f1=0.994]\n",
      "[Validation] Epoch 20]: 100%|██████████| 5/5 [00:11<00:00,  2.27s/it, validation_loss=0.554, validation_accuracy=0.834, validation_f1=0.86] \n"
     ]
    },
    {
     "name": "stdout",
     "output_type": "stream",
     "text": [
      "----------\n"
     ]
    },
    {
     "name": "stderr",
     "output_type": "stream",
     "text": [
      "[Training] Epoch 21]: 100%|██████████| 23/23 [01:33<00:00,  4.05s/it, training_loss=0.0335, training_accuracy=0.987, training_f1=0.988]\n",
      "[Validation] Epoch 21]: 100%|██████████| 5/5 [00:11<00:00,  2.25s/it, validation_loss=0.0214, validation_accuracy=0.994, validation_f1=0.994]\n"
     ]
    },
    {
     "name": "stdout",
     "output_type": "stream",
     "text": [
      "----------\n"
     ]
    },
    {
     "name": "stderr",
     "output_type": "stream",
     "text": [
      "[Training] Epoch 22]: 100%|██████████| 23/23 [01:33<00:00,  4.05s/it, training_loss=0.0415, training_accuracy=0.988, training_f1=0.988]\n",
      "[Validation] Epoch 22]: 100%|██████████| 5/5 [00:11<00:00,  2.26s/it, validation_loss=0.582, validation_accuracy=0.876, validation_f1=0.819]\n"
     ]
    },
    {
     "name": "stdout",
     "output_type": "stream",
     "text": [
      "----------\n"
     ]
    },
    {
     "name": "stderr",
     "output_type": "stream",
     "text": [
      "[Training] Epoch 23]: 100%|██████████| 23/23 [01:32<00:00,  4.04s/it, training_loss=0.0287, training_accuracy=0.993, training_f1=0.993]\n",
      "[Validation] Epoch 23]: 100%|██████████| 5/5 [00:11<00:00,  2.23s/it, validation_loss=0.247, validation_accuracy=0.948, validation_f1=0.954]\n"
     ]
    },
    {
     "name": "stdout",
     "output_type": "stream",
     "text": [
      "----------\n"
     ]
    },
    {
     "name": "stderr",
     "output_type": "stream",
     "text": [
      "[Training] Epoch 24]: 100%|██████████| 23/23 [01:33<00:00,  4.07s/it, training_loss=0.0218, training_accuracy=0.996, training_f1=0.996]\n",
      "[Validation] Epoch 24]: 100%|██████████| 5/5 [00:11<00:00,  2.24s/it, validation_loss=4.26, validation_accuracy=0.24, validation_f1=0.237] \n"
     ]
    }
   ],
   "source": [
    "print(\"Using device:\", device)\n",
    "\n",
    "for epoch in range(epochs):\n",
    "    \n",
    "    print('-' * 10)\n",
    "    \n",
    "    total_train_loss = 0\n",
    "    total_train_accuracy = 0\n",
    "    total_train_f1 = 0\n",
    "    \n",
    "    model.train()\n",
    "\n",
    "    progress_bar = tqdm(enumerate(train_loader), total=len(train_loader))\n",
    "    \n",
    "    for i, batch in progress_bar:\n",
    "        progress_bar.set_description(f'[Training] Epoch {epoch}]')\n",
    "        \n",
    "        optimizer.zero_grad()\n",
    "        \n",
    "        X_batch, y_batch = batch\n",
    "        X_batch = X_batch.to(device)\n",
    "        y_batch = y_batch.to(device)\n",
    "        \n",
    "        y_pred = model(X_batch).squeeze() \n",
    "        \n",
    "        loss = criterion(y_pred, y_batch.float())\n",
    "        \n",
    "        loss.backward()\n",
    "        optimizer.step()\n",
    "        \n",
    "        y_pred = torch.sigmoid(y_pred)\n",
    "        y_pred = torch.round(y_pred)\n",
    "\n",
    "        total_train_loss += loss.item()\n",
    "        total_train_accuracy += accuracy_score(y_batch.tolist(), y_pred.detach().cpu().numpy().tolist())\n",
    "        total_train_f1 += f1_score(y_batch.tolist(), y_pred.detach().cpu().numpy().tolist(), average='weighted')\n",
    "        \n",
    "        progress_bar.set_postfix({'training_loss': total_train_loss / (i + 1), 'training_accuracy': total_train_accuracy / (i + 1), 'training_f1': total_train_f1 / (i + 1)})\n",
    "        \n",
    "    total_val_loss = 0\n",
    "    total_val_accuracy = 0\n",
    "    total_val_f1 = 0\n",
    "\n",
    "    model.eval()\n",
    "    \n",
    "    progress_bar = tqdm(enumerate(val_loader), total=len(val_loader))\n",
    "    \n",
    "    for i, batch in progress_bar:\n",
    "        progress_bar.set_description(f'[Validation] Epoch {epoch}]')\n",
    "        \n",
    "        X_batch, y_batch = batch\n",
    "        X_batch = X_batch.to(device)\n",
    "        y_batch = y_batch.to(device)\n",
    "        \n",
    "        with torch.no_grad():\n",
    "            y_pred = model(X_batch).squeeze() \n",
    "        \n",
    "        loss = criterion(y_pred, y_batch.float())\n",
    "        \n",
    "        y_pred = torch.sigmoid(y_pred)\n",
    "        y_pred = torch.round(y_pred)\n",
    "        \n",
    "        total_val_loss += loss.item()\n",
    "        total_val_accuracy += accuracy_score(y_batch.tolist(), y_pred.tolist())\n",
    "        total_val_f1 += f1_score(y_batch.tolist(), y_pred.tolist(), average='weighted')\n",
    "        \n",
    "        progress_bar.set_postfix({'validation_loss': total_val_loss / (i + 1), 'validation_accuracy': total_val_accuracy / (i + 1), 'validation_f1': total_val_f1 / (i + 1)})"
   ]
  },
  {
   "cell_type": "code",
   "execution_count": 24,
   "metadata": {},
   "outputs": [
    {
     "name": "stderr",
     "output_type": "stream",
     "text": [
      "Testing: 100%|██████████| 85/85 [05:47<00:00,  4.09s/it, testing_loss=4.39]\n"
     ]
    },
    {
     "name": "stdout",
     "output_type": "stream",
     "text": [
      "Testing Accuracy: 0.26348854397634885\n",
      "Testing F1 Score: 0.28215352039178554\n",
      "              precision    recall  f1-score   support\n",
      "\n",
      "           0       1.00      0.17      0.29      2396\n",
      "           1       0.13      1.00      0.24       310\n",
      "\n",
      "    accuracy                           0.26      2706\n",
      "   macro avg       0.57      0.58      0.26      2706\n",
      "weighted avg       0.90      0.26      0.28      2706\n",
      "\n"
     ]
    },
    {
     "data": {
      "image/png": "[encoded data removed]",
      "text/plain": [
       "<Figure size 500x500 with 2 Axes>"
      ]
     },
     "metadata": {},
     "output_type": "display_data"
    }
   ],
   "source": [
    "# test the model\n",
    "model.eval()\n",
    "\n",
    "total_loss = 0\n",
    "all_labels = []\n",
    "all_predictions = []\n",
    "\n",
    "progress_bar = tqdm(enumerate(test_loader), total=len(test_loader))\n",
    "\n",
    "for i, batch in progress_bar:\n",
    "    progress_bar.set_description('Testing')\n",
    "    \n",
    "    X_batch, y_batch = batch\n",
    "    X_batch = X_batch.to(device)\n",
    "    y_batch = y_batch.to(device)\n",
    "    \n",
    "    with torch.no_grad():\n",
    "        y_pred = model(X_batch).squeeze() \n",
    "    \n",
    "    loss = criterion(y_pred, y_batch.float())\n",
    "    \n",
    "    y_pred = torch.sigmoid(y_pred)\n",
    "    y_pred = torch.round(y_pred)\n",
    "    \n",
    "    all_labels.extend(y_batch.tolist())\n",
    "    all_predictions.extend(y_pred.tolist())\n",
    "    \n",
    "    total_loss += loss.item()\n",
    "    \n",
    "    progress_bar.set_postfix({'testing_loss': total_loss / (i + 1)})\n",
    "\n",
    "# Calculate and print metrics after the loop\n",
    "total_accuracy = accuracy_score(all_labels, all_predictions)\n",
    "total_f1_weighted = f1_score(all_labels, all_predictions, average='weighted')\n",
    "\n",
    "print(f'Testing Accuracy: {total_accuracy}')\n",
    "print(f'Testing F1 Score: {total_f1_weighted}')\n",
    "print(classification_report(all_labels, all_predictions))\n",
    "\n",
    "# Confusion matrix\n",
    "cm = confusion_matrix(all_labels, all_predictions)\n",
    "plt.figure(figsize=(5, 5))\n",
    "sns.heatmap(cm, annot=True, fmt=\"d\")\n",
    "plt.title('Confusion matrix')\n",
    "plt.ylabel('Actual label')\n",
    "plt.xlabel('Predicted label')\n",
    "plt.show()"
   ]
  },
  {
   "cell_type": "code",
   "execution_count": 17,
   "metadata": {},
   "outputs": [
    {
     "name": "stdout",
     "output_type": "stream",
     "text": [
      "----------\n"
     ]
    },
    {
     "name": "stderr",
     "output_type": "stream",
     "text": [
      "[Training] Epoch 0]: 100%|██████████| 23/23 [02:32<00:00,  6.63s/it, training_loss=0.636, training_accuracy=0.705, training_f1=0.668]\n"
     ]
    },
    {
     "name": "stdout",
     "output_type": "stream",
     "text": [
      "----------\n"
     ]
    },
    {
     "name": "stderr",
     "output_type": "stream",
     "text": [
      "[Training] Epoch 1]: 100%|██████████| 23/23 [02:29<00:00,  6.52s/it, training_loss=0.501, training_accuracy=0.736, training_f1=0.714]\n"
     ]
    },
    {
     "name": "stdout",
     "output_type": "stream",
     "text": [
      "----------\n"
     ]
    },
    {
     "name": "stderr",
     "output_type": "stream",
     "text": [
      "[Training] Epoch 2]: 100%|██████████| 23/23 [02:10<00:00,  5.68s/it, training_loss=0.521, training_accuracy=0.725, training_f1=0.696]\n"
     ]
    },
    {
     "name": "stdout",
     "output_type": "stream",
     "text": [
      "----------\n"
     ]
    },
    {
     "name": "stderr",
     "output_type": "stream",
     "text": [
      "[Training] Epoch 3]: 100%|██████████| 23/23 [01:56<00:00,  5.07s/it, training_loss=0.503, training_accuracy=0.727, training_f1=0.704]\n"
     ]
    },
    {
     "name": "stdout",
     "output_type": "stream",
     "text": [
      "----------\n"
     ]
    },
    {
     "name": "stderr",
     "output_type": "stream",
     "text": [
      "[Training] Epoch 4]: 100%|██████████| 23/23 [02:00<00:00,  5.25s/it, training_loss=0.502, training_accuracy=0.723, training_f1=0.709]\n"
     ]
    },
    {
     "name": "stdout",
     "output_type": "stream",
     "text": [
      "----------\n"
     ]
    },
    {
     "name": "stderr",
     "output_type": "stream",
     "text": [
      "[Training] Epoch 5]: 100%|██████████| 23/23 [02:06<00:00,  5.50s/it, training_loss=0.495, training_accuracy=0.743, training_f1=0.724]\n"
     ]
    },
    {
     "name": "stdout",
     "output_type": "stream",
     "text": [
      "----------\n"
     ]
    },
    {
     "name": "stderr",
     "output_type": "stream",
     "text": [
      "[Training] Epoch 6]: 100%|██████████| 23/23 [02:06<00:00,  5.50s/it, training_loss=0.527, training_accuracy=0.715, training_f1=0.683]\n"
     ]
    },
    {
     "name": "stdout",
     "output_type": "stream",
     "text": [
      "----------\n"
     ]
    },
    {
     "name": "stderr",
     "output_type": "stream",
     "text": [
      "[Training] Epoch 7]: 100%|██████████| 23/23 [01:46<00:00,  4.62s/it, training_loss=0.499, training_accuracy=0.737, training_f1=0.715]\n"
     ]
    },
    {
     "name": "stdout",
     "output_type": "stream",
     "text": [
      "----------\n"
     ]
    },
    {
     "name": "stderr",
     "output_type": "stream",
     "text": [
      "[Training] Epoch 8]: 100%|██████████| 23/23 [01:40<00:00,  4.36s/it, training_loss=0.519, training_accuracy=0.702, training_f1=0.661]\n"
     ]
    },
    {
     "name": "stdout",
     "output_type": "stream",
     "text": [
      "----------\n"
     ]
    },
    {
     "name": "stderr",
     "output_type": "stream",
     "text": [
      "[Training] Epoch 9]: 100%|██████████| 23/23 [01:31<00:00,  3.99s/it, training_loss=0.516, training_accuracy=0.701, training_f1=0.664]\n"
     ]
    },
    {
     "name": "stdout",
     "output_type": "stream",
     "text": [
      "----------\n"
     ]
    },
    {
     "name": "stderr",
     "output_type": "stream",
     "text": [
      "[Training] Epoch 10]: 100%|██████████| 23/23 [02:00<00:00,  5.22s/it, training_loss=0.491, training_accuracy=0.741, training_f1=0.72] \n"
     ]
    },
    {
     "name": "stdout",
     "output_type": "stream",
     "text": [
      "----------\n"
     ]
    },
    {
     "name": "stderr",
     "output_type": "stream",
     "text": [
      "[Training] Epoch 11]: 100%|██████████| 23/23 [01:57<00:00,  5.12s/it, training_loss=0.447, training_accuracy=0.8, training_f1=0.793]  \n"
     ]
    },
    {
     "name": "stdout",
     "output_type": "stream",
     "text": [
      "----------\n"
     ]
    },
    {
     "name": "stderr",
     "output_type": "stream",
     "text": [
      "[Training] Epoch 12]: 100%|██████████| 23/23 [01:17<00:00,  3.37s/it, training_loss=0.479, training_accuracy=0.713, training_f1=0.68] \n"
     ]
    },
    {
     "name": "stdout",
     "output_type": "stream",
     "text": [
      "----------\n"
     ]
    },
    {
     "name": "stderr",
     "output_type": "stream",
     "text": [
      "[Training] Epoch 13]: 100%|██████████| 23/23 [01:18<00:00,  3.43s/it, training_loss=0.417, training_accuracy=0.828, training_f1=0.824]\n"
     ]
    },
    {
     "name": "stdout",
     "output_type": "stream",
     "text": [
      "----------\n"
     ]
    },
    {
     "name": "stderr",
     "output_type": "stream",
     "text": [
      "[Training] Epoch 14]: 100%|██████████| 23/23 [01:08<00:00,  3.00s/it, training_loss=0.397, training_accuracy=0.828, training_f1=0.823]\n"
     ]
    },
    {
     "name": "stdout",
     "output_type": "stream",
     "text": [
      "----------\n"
     ]
    },
    {
     "name": "stderr",
     "output_type": "stream",
     "text": [
      "[Training] Epoch 15]: 100%|██████████| 23/23 [01:26<00:00,  3.77s/it, training_loss=0.403, training_accuracy=0.827, training_f1=0.825]\n"
     ]
    },
    {
     "name": "stdout",
     "output_type": "stream",
     "text": [
      "----------\n"
     ]
    },
    {
     "name": "stderr",
     "output_type": "stream",
     "text": [
      "[Training] Epoch 16]: 100%|██████████| 23/23 [01:11<00:00,  3.12s/it, training_loss=0.411, training_accuracy=0.825, training_f1=0.821]\n"
     ]
    },
    {
     "name": "stdout",
     "output_type": "stream",
     "text": [
      "----------\n"
     ]
    },
    {
     "name": "stderr",
     "output_type": "stream",
     "text": [
      "[Training] Epoch 17]: 100%|██████████| 23/23 [01:11<00:00,  3.11s/it, training_loss=0.408, training_accuracy=0.826, training_f1=0.822]\n"
     ]
    },
    {
     "name": "stdout",
     "output_type": "stream",
     "text": [
      "----------\n"
     ]
    },
    {
     "name": "stderr",
     "output_type": "stream",
     "text": [
      "[Training] Epoch 18]: 100%|██████████| 23/23 [01:10<00:00,  3.07s/it, training_loss=0.43, training_accuracy=0.822, training_f1=0.816] \n"
     ]
    },
    {
     "name": "stdout",
     "output_type": "stream",
     "text": [
      "----------\n"
     ]
    },
    {
     "name": "stderr",
     "output_type": "stream",
     "text": [
      "[Training] Epoch 19]: 100%|██████████| 23/23 [01:09<00:00,  3.02s/it, training_loss=0.385, training_accuracy=0.827, training_f1=0.823]\n"
     ]
    },
    {
     "name": "stdout",
     "output_type": "stream",
     "text": [
      "----------\n"
     ]
    },
    {
     "name": "stderr",
     "output_type": "stream",
     "text": [
      "[Training] Epoch 20]: 100%|██████████| 23/23 [01:05<00:00,  2.87s/it, training_loss=0.338, training_accuracy=0.811, training_f1=0.81] \n"
     ]
    },
    {
     "name": "stdout",
     "output_type": "stream",
     "text": [
      "----------\n"
     ]
    },
    {
     "name": "stderr",
     "output_type": "stream",
     "text": [
      "[Training] Epoch 21]: 100%|██████████| 23/23 [01:11<00:00,  3.11s/it, training_loss=0.316, training_accuracy=0.826, training_f1=0.824]\n"
     ]
    },
    {
     "name": "stdout",
     "output_type": "stream",
     "text": [
      "----------\n"
     ]
    },
    {
     "name": "stderr",
     "output_type": "stream",
     "text": [
      "[Training] Epoch 22]: 100%|██████████| 23/23 [01:07<00:00,  2.93s/it, training_loss=0.346, training_accuracy=0.816, training_f1=0.816]\n"
     ]
    },
    {
     "name": "stdout",
     "output_type": "stream",
     "text": [
      "----------\n"
     ]
    },
    {
     "name": "stderr",
     "output_type": "stream",
     "text": [
      "[Training] Epoch 23]: 100%|██████████| 23/23 [01:18<00:00,  3.43s/it, training_loss=0.348, training_accuracy=0.815, training_f1=0.811]\n"
     ]
    },
    {
     "name": "stdout",
     "output_type": "stream",
     "text": [
      "----------\n"
     ]
    },
    {
     "name": "stderr",
     "output_type": "stream",
     "text": [
      "[Training] Epoch 24]: 100%|██████████| 23/23 [01:23<00:00,  3.63s/it, training_loss=0.333, training_accuracy=0.818, training_f1=0.817]\n"
     ]
    },
    {
     "name": "stdout",
     "output_type": "stream",
     "text": [
      "Testing Accuracy (LSTM Model): 0.9408721359940873\n",
      "Testing F1 Score (LSTM Model): 0.936514981612732\n",
      "              precision    recall  f1-score   support\n",
      "\n",
      "           0       0.95      0.98      0.97      2396\n",
      "           1       0.84      0.60      0.70       310\n",
      "\n",
      "    accuracy                           0.94      2706\n",
      "   macro avg       0.89      0.79      0.83      2706\n",
      "weighted avg       0.94      0.94      0.94      2706\n",
      "\n"
     ]
    }
   ],
   "source": [
    "import torch.nn as nn\n",
    "import torch.optim as optim\n",
    "\n",
    "class LSTMModel(nn.Module):\n",
    "    def __init__(self, input_size, hidden_size, output_size, num_layers=1, bidirectional=False, dropout_rate=0.5):\n",
    "        super(LSTMModel, self).__init__()\n",
    "        self.lstm = nn.LSTM(input_size, hidden_size, num_layers=num_layers, bidirectional=bidirectional, batch_first=True)\n",
    "        self.dropout = nn.Dropout(dropout_rate)\n",
    "        self.fc = nn.Linear(hidden_size * (2 if bidirectional else 1), output_size)\n",
    "\n",
    "    def forward(self, x):\n",
    "        lstm_out, _ = self.lstm(x)\n",
    "        lstm_out = self.dropout(lstm_out[:, -1, :])  # Take the output from the last time step\n",
    "        output = self.fc(lstm_out)\n",
    "        return output\n",
    "\n",
    "# Define hyperparameters for the LSTM model\n",
    "lstm_hidden_size = 128\n",
    "lstm_num_layers = 2\n",
    "lstm_bidirectional = True\n",
    "output_size = 1  # For binary classification, adjust if you have multiple classes\n",
    "\n",
    "# Create an instance of the LSTM model\n",
    "lstm_model = LSTMModel(embed_dim, lstm_hidden_size, output_size, num_layers=lstm_num_layers, bidirectional=lstm_bidirectional)\n",
    "lstm_model = lstm_model.to(device)\n",
    "\n",
    "# Define optimizer and loss function\n",
    "lstm_optimizer = optim.AdamW(lstm_model.parameters(), lr=learning_rate, weight_decay=weight_decay)\n",
    "lstm_criterion = nn.BCEWithLogitsLoss()\n",
    "\n",
    "# Training loop for the LSTM model\n",
    "for epoch in range(epochs):\n",
    "    \n",
    "    print('-' * 10)\n",
    "    \n",
    "    total_train_loss = 0\n",
    "    total_train_accuracy = 0\n",
    "    total_train_f1 = 0\n",
    "    \n",
    "    lstm_model.train()  # Use lstm_model instead of model\n",
    "\n",
    "    progress_bar = tqdm(enumerate(train_loader), total=len(train_loader))\n",
    "    \n",
    "    for i, batch in progress_bar:\n",
    "        progress_bar.set_description(f'[Training] Epoch {epoch}]')\n",
    "        \n",
    "        lstm_optimizer.zero_grad()  # Use lstm_optimizer instead of optimizer\n",
    "        \n",
    "        X_batch, y_batch = batch\n",
    "        X_batch = X_batch.to(device)\n",
    "        y_batch = y_batch.to(device)\n",
    "        \n",
    "        y_pred = lstm_model(X_batch).squeeze()  # Use lstm_model instead of model\n",
    "        \n",
    "        loss = lstm_criterion(y_pred, y_batch.float())  # Use lstm_criterion instead of criterion\n",
    "        \n",
    "        loss.backward()\n",
    "        lstm_optimizer.step()\n",
    "        \n",
    "        y_pred = torch.sigmoid(y_pred)\n",
    "        y_pred = torch.round(y_pred)\n",
    "\n",
    "        total_train_loss += loss.item()\n",
    "        total_train_accuracy += accuracy_score(y_batch.tolist(), y_pred.detach().cpu().numpy().tolist())\n",
    "        total_train_f1 += f1_score(y_batch.tolist(), y_pred.detach().cpu().numpy().tolist(), average='weighted')\n",
    "        \n",
    "        progress_bar.set_postfix({'training_loss': total_train_loss / (i + 1), 'training_accuracy': total_train_accuracy / (i + 1), 'training_f1': total_train_f1 / (i + 1)})\n",
    "\n",
    "\n",
    "# Testing the LSTM model\n",
    "lstm_model.eval()\n",
    "\n",
    "lstm_total_loss = 0\n",
    "lstm_all_labels = []\n",
    "lstm_all_predictions = []\n",
    "\n",
    "for i, batch in enumerate(test_loader):\n",
    "    X_batch, y_batch = batch\n",
    "    X_batch = X_batch.to(device)\n",
    "    y_batch = y_batch.to(device)\n",
    "\n",
    "    with torch.no_grad():\n",
    "        lstm_y_pred = lstm_model(X_batch).squeeze()\n",
    "\n",
    "    lstm_loss = lstm_criterion(lstm_y_pred, y_batch.float())\n",
    "    lstm_y_pred = torch.sigmoid(lstm_y_pred)\n",
    "    lstm_y_pred = torch.round(lstm_y_pred)\n",
    "\n",
    "    lstm_all_labels.extend(y_batch.tolist())\n",
    "    lstm_all_predictions.extend(lstm_y_pred.tolist())\n",
    "    lstm_total_loss += lstm_loss.item()\n",
    "\n",
    "# Calculate and print metrics for the LSTM model\n",
    "lstm_total_accuracy = accuracy_score(lstm_all_labels, lstm_all_predictions)\n",
    "lstm_total_f1_weighted = f1_score(lstm_all_labels, lstm_all_predictions, average='weighted')\n",
    "\n",
    "print(f'Testing Accuracy (LSTM Model): {lstm_total_accuracy}')\n",
    "print(f'Testing F1 Score (LSTM Model): {lstm_total_f1_weighted}')\n",
    "print(classification_report(lstm_all_labels, lstm_all_predictions))\n"
   ]
  },
  {
   "cell_type": "code",
   "execution_count": 18,
   "metadata": {},
   "outputs": [
    {
     "name": "stderr",
     "output_type": "stream",
     "text": [
      "  0%|          | 0/85 [00:00<?, ?it/s]"
     ]
    },
    {
     "name": "stderr",
     "output_type": "stream",
     "text": [
      "Testing: 100%|██████████| 85/85 [00:38<00:00,  2.21it/s, testing_loss=0.222]\n"
     ]
    },
    {
     "name": "stdout",
     "output_type": "stream",
     "text": [
      "Testing Accuracy: 0.9408721359940873\n",
      "Testing F1 Score: 0.936514981612732\n",
      "              precision    recall  f1-score   support\n",
      "\n",
      "           0       0.95      0.98      0.97      2396\n",
      "           1       0.84      0.60      0.70       310\n",
      "\n",
      "    accuracy                           0.94      2706\n",
      "   macro avg       0.89      0.79      0.83      2706\n",
      "weighted avg       0.94      0.94      0.94      2706\n",
      "\n"
     ]
    },
    {
     "data": {
      "image/png": "[encoded data removed]",
      "text/plain": [
       "<Figure size 500x500 with 2 Axes>"
      ]
     },
     "metadata": {},
     "output_type": "display_data"
    }
   ],
   "source": [
    "# test the model\n",
    "lstm_model.eval()\n",
    "\n",
    "total_loss = 0\n",
    "all_labels = []\n",
    "all_predictions = []\n",
    "\n",
    "progress_bar = tqdm(enumerate(test_loader), total=len(test_loader))\n",
    "\n",
    "for i, batch in progress_bar:\n",
    "    progress_bar.set_description('Testing')\n",
    "    \n",
    "    X_batch, y_batch = batch\n",
    "    X_batch = X_batch.to(device)\n",
    "    y_batch = y_batch.to(device)\n",
    "    \n",
    "    with torch.no_grad():\n",
    "        y_pred = lstm_model(X_batch).squeeze() \n",
    "    \n",
    "    loss = criterion(y_pred, y_batch.float())\n",
    "    \n",
    "    y_pred = torch.sigmoid(y_pred)\n",
    "    y_pred = torch.round(y_pred)\n",
    "    \n",
    "    all_labels.extend(y_batch.tolist())\n",
    "    all_predictions.extend(y_pred.tolist())\n",
    "    \n",
    "    total_loss += loss.item()\n",
    "    \n",
    "    progress_bar.set_postfix({'testing_loss': total_loss / (i + 1)})\n",
    "\n",
    "# Calculate and print metrics after the loop\n",
    "total_accuracy = accuracy_score(all_labels, all_predictions)\n",
    "total_f1_weighted = f1_score(all_labels, all_predictions, average='weighted')\n",
    "\n",
    "print(f'Testing Accuracy: {total_accuracy}')\n",
    "print(f'Testing F1 Score: {total_f1_weighted}')\n",
    "print(classification_report(all_labels, all_predictions))\n",
    "\n",
    "# Confusion matrix\n",
    "cm = confusion_matrix(all_labels, all_predictions)\n",
    "plt.figure(figsize=(5, 5))\n",
    "sns.heatmap(cm, annot=True, fmt=\"d\")\n",
    "plt.title('Confusion matrix')\n",
    "plt.ylabel('Actual label')\n",
    "plt.xlabel('Predicted label')\n",
    "plt.show()"
   ]
  },
  {
   "cell_type": "code",
   "execution_count": null,
   "metadata": {},
   "outputs": [],
   "source": []
  }
 ],
 "metadata": {
  "kernelspec": {
   "display_name": "base",
   "language": "python",
   "name": "python3"
  },
  "language_info": {
   "codemirror_mode": {
    "name": "ipython",
    "version": 3
   },
   "file_extension": ".py",
   "mimetype": "text/x-python",
   "name": "python",
   "nbconvert_exporter": "python",
   "pygments_lexer": "ipython3",
   "version": "3.10.8"
  }
 },
 "nbformat": 4,
 "nbformat_minor": 2
}
