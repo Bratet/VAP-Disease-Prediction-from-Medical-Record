{
 "cells": [
  {
   "cell_type": "code",
   "execution_count": 1,
   "metadata": {},
   "outputs": [],
   "source": [
    "import warnings\n",
    "\n",
    "warnings.filterwarnings('ignore')\n",
    "\n",
    "import pandas as pd\n",
    "import re\n",
    "import matplotlib.pyplot as plt\n",
    "import seaborn as sns\n",
    "from tqdm import tqdm\n",
    "from sklearn.model_selection import train_test_split\n",
    "from sklearn.metrics import accuracy_score, f1_score, classification_report, roc_auc_score, confusion_matrix\n",
    "import numpy as np\n",
    "import torch\n",
    "import torch.nn as nn\n",
    "import torch.nn.functional as F\n",
    "from torch.utils.data import Dataset, DataLoader\n",
    "import torch.optim as optim\n",
    "from torch.nn.utils.rnn import pad_sequence\n",
    "import math\n",
    "from pprint import pprint\n",
    "from collections import Counter\n",
    "import transformers\n",
    "from transformers import BertModel, AdamW, get_linear_schedule_with_warmup\n",
    "\n",
    "tqdm.pandas()"
   ]
  },
  {
   "cell_type": "code",
   "execution_count": 2,
   "metadata": {},
   "outputs": [],
   "source": [
    "data = pd.read_csv('data.csv')"
   ]
  },
  {
   "cell_type": "code",
   "execution_count": 3,
   "metadata": {},
   "outputs": [],
   "source": [
    "# remove rows with empty text\n",
    "data = data[data['TEXT'] != '']\n",
    "\n",
    "# reindex the DataFrame\n",
    "data = data.reset_index(drop=True)"
   ]
  },
  {
   "cell_type": "code",
   "execution_count": 4,
   "metadata": {},
   "outputs": [
    {
     "data": {
      "text/plain": [
       "<Axes: ylabel='count'>"
      ]
     },
     "execution_count": 4,
     "metadata": {},
     "output_type": "execute_result"
    },
    {
     "data": {
      "image/png": "[encoded data removed]",
      "text/plain": [
       "<Figure size 640x480 with 1 Axes>"
      ]
     },
     "metadata": {},
     "output_type": "display_data"
    }
   ],
   "source": [
    "# create a new dataframe that contains as much data from each class as the number of rows in the class with the least rows\n",
    "data_balanced = pd.concat([data[data['VAP'] == 0].sample(data[data['VAP'] == 1].shape[0]), data[data['VAP'] == 1]])\n",
    "data = data_balanced\n",
    "# pie chart of Label\n",
    "data['VAP'].value_counts().plot.pie(autopct='%1.1f%%')"
   ]
  },
  {
   "cell_type": "code",
   "execution_count": 5,
   "metadata": {},
   "outputs": [],
   "source": [
    "# split the data into train and validation sets\n",
    "X_train, X_val, y_train, y_val = train_test_split(data['TEXT'].tolist(), data['VAP'].tolist(), test_size=0.2, random_state=42, stratify=data['VAP'].tolist())\n",
    "X_val, X_test, y_val, y_test = train_test_split(X_val, y_val, test_size=0.5, random_state=42, stratify=y_val)"
   ]
  },
  {
   "cell_type": "code",
   "execution_count": 6,
   "metadata": {},
   "outputs": [],
   "source": [
    "model_name = 'emilyalsentzer/Bio_ClinicalBERT'\n",
    "\n",
    "#tokenizer = transformers.BertTokenizer.from_pretrained('emilyalsentzer/Bio_ClinicalBERT', do_lower_case=True)\n",
    "#bert_model = transformers.BertModel.from_pretrained('emilyalsentzer/Bio_ClinicalBERT')\n",
    "\n",
    "SEQ_LEN = 128\n",
    "batch_size = 16\n",
    "epochs = 10\n",
    "learning_rate = 1e-3 # Controls how large a step is taken when updating model weights during training.\n",
    "steps_per_epoch = 20\n",
    "num_workers = 2"
   ]
  },
  {
   "cell_type": "code",
   "execution_count": 7,
   "metadata": {},
   "outputs": [],
   "source": [
    "def get_split(text, chunk_size=128, overlap=32):\n",
    "    words = text.split()\n",
    "    if len(words) // chunk_size > 0:\n",
    "        n_chunks = len(words) // chunk_size\n",
    "    else: \n",
    "        n_chunks = 1\n",
    "    chunks = []\n",
    "    for i in range(n_chunks):\n",
    "        start = i * chunk_size\n",
    "        end = start + chunk_size\n",
    "        chunks.append(\" \".join(words[start:end]))\n",
    "        if i != n_chunks - 1:  # Add overlap to all but the last chunk\n",
    "            end += overlap\n",
    "    return chunks\n",
    "\n",
    "\n",
    "X_train_chunks = [get_split(text) for text in X_train]\n",
    "X_val_chunks = [get_split(text) for text in X_val]\n",
    "X_test_chunks = [get_split(text) for text in X_test]"
   ]
  },
  {
   "cell_type": "code",
   "execution_count": 8,
   "metadata": {},
   "outputs": [],
   "source": [
    "tokenizer = transformers.BertTokenizer.from_pretrained('emilyalsentzer/Bio_ClinicalBERT', do_lower_case=True)"
   ]
  },
  {
   "cell_type": "code",
   "execution_count": 9,
   "metadata": {},
   "outputs": [],
   "source": [
    "X_train_flattened = [chunk for text_chunks in X_train_chunks for chunk in text_chunks]\n",
    "X_val_flattened = [chunk for text_chunks in X_val_chunks for chunk in text_chunks]\n",
    "X_test_flattened = [chunk for text_chunks in X_test_chunks for chunk in text_chunks]\n",
    "\n",
    "X_encoding_train = tokenizer.batch_encode_plus(\n",
    "  X_train_flattened,\n",
    "  max_length=SEQ_LEN,\n",
    "  add_special_tokens=True,\n",
    "  return_token_type_ids=True,\n",
    "  truncation=True,\n",
    "  padding='longest',\n",
    "  return_attention_mask=True,\n",
    ")\n",
    "\n",
    "X_encoding_val = tokenizer.batch_encode_plus(\n",
    "    X_val_flattened,\n",
    "    max_length=SEQ_LEN,\n",
    "    add_special_tokens=True,\n",
    "    return_token_type_ids=True,\n",
    "    truncation=True,\n",
    "    padding='longest',\n",
    "    return_attention_mask=True,\n",
    ")\n",
    "\n",
    "X_encoding_test = tokenizer.batch_encode_plus(\n",
    "    X_test_flattened,\n",
    "    max_length=SEQ_LEN,\n",
    "    add_special_tokens=True,\n",
    "    return_token_type_ids=True,\n",
    "    truncation=True,\n",
    "    padding='longest',\n",
    "    return_attention_mask=True,\n",
    ")"
   ]
  },
  {
   "cell_type": "code",
   "execution_count": 10,
   "metadata": {},
   "outputs": [
    {
     "data": {
      "text/plain": [
       "{'unk_token': '[UNK]',\n",
       " 'sep_token': '[SEP]',\n",
       " 'pad_token': '[PAD]',\n",
       " 'cls_token': '[CLS]',\n",
       " 'mask_token': '[MASK]'}"
      ]
     },
     "execution_count": 10,
     "metadata": {},
     "output_type": "execute_result"
    }
   ],
   "source": [
    "tokenizer.special_tokens_map"
   ]
  },
  {
   "cell_type": "code",
   "execution_count": 11,
   "metadata": {},
   "outputs": [
    {
     "data": {
      "text/plain": [
       "dict_keys(['input_ids', 'token_type_ids', 'attention_mask'])"
      ]
     },
     "execution_count": 11,
     "metadata": {},
     "output_type": "execute_result"
    }
   ],
   "source": [
    "X_encoding_train.keys()"
   ]
  },
  {
   "cell_type": "code",
   "execution_count": 12,
   "metadata": {},
   "outputs": [
    {
     "name": "stdout",
     "output_type": "stream",
     "text": [
      "length of training data:  5028\n",
      "length of validation data:  521\n",
      "length of test data:  585\n"
     ]
    }
   ],
   "source": [
    "X_train_input_ids = torch.tensor(X_encoding_train['input_ids'])\n",
    "X_train_attention_mask = torch.tensor(X_encoding_train['attention_mask'])\n",
    "X_train_token_type_ids = torch.tensor(X_encoding_train['token_type_ids'])\n",
    "\n",
    "X_val_input_ids = torch.tensor(X_encoding_val['input_ids'])\n",
    "X_val_attention_mask = torch.tensor(X_encoding_val['attention_mask'])\n",
    "X_val_token_type_ids = torch.tensor(X_encoding_val['token_type_ids'])\n",
    "\n",
    "X_test_input_ids = torch.tensor(X_encoding_test['input_ids'])\n",
    "X_test_attention_mask = torch.tensor(X_encoding_test['attention_mask'])\n",
    "X_test_token_type_ids = torch.tensor(X_encoding_test['token_type_ids'])\n",
    "\n",
    "num_chunks_per_train_text = [len(chunks) for chunks in X_train_chunks]\n",
    "num_chunks_per_val_text = [len(chunks) for chunks in X_val_chunks]\n",
    "num_chunks_per_test_text = [len(chunks) for chunks in X_test_chunks]\n",
    "\n",
    "y_train_chunks = torch.tensor([label for label, n_chunks in zip(y_train, num_chunks_per_train_text) for _ in range(n_chunks)])\n",
    "y_val_chunks = torch.tensor([label for label, n_chunks in zip(y_val, num_chunks_per_val_text) for _ in range(n_chunks)])\n",
    "y_test_chunks = torch.tensor([label for label, n_chunks in zip(y_test, num_chunks_per_test_text) for _ in range(n_chunks)])\n",
    "\n",
    "\n",
    "print(\"length of training data: \", len(X_train_input_ids))\n",
    "print(\"length of validation data: \", len(X_val_input_ids))\n",
    "print(\"length of test data: \", len(X_test_input_ids))\n",
    "\n",
    "train_data = torch.utils.data.TensorDataset(X_train_input_ids, X_train_attention_mask, X_train_token_type_ids, y_train_chunks)\n",
    "val_data = torch.utils.data.TensorDataset(X_val_input_ids, X_val_attention_mask, X_val_token_type_ids, y_val_chunks)\n",
    "test_data = torch.utils.data.TensorDataset(X_test_input_ids, X_test_attention_mask, X_test_token_type_ids, y_test_chunks)\n",
    "\n",
    "train_loader = torch.utils.data.DataLoader(train_data, batch_size=batch_size, shuffle=True)\n",
    "val_loader = torch.utils.data.DataLoader(val_data, batch_size=batch_size, shuffle=True)\n",
    "test_loader = torch.utils.data.DataLoader(test_data, batch_size=batch_size, shuffle=True)"
   ]
  },
  {
   "cell_type": "code",
   "execution_count": 13,
   "metadata": {},
   "outputs": [],
   "source": [
    "class TransformerModel(nn.Module):\n",
    "    def __init__(self, n_classes, freeze_bert=False):\n",
    "        \n",
    "        super(TransformerModel,self).__init__()\n",
    "        # Instantiating BERT model object\n",
    "        self.bert = BertModel.from_pretrained(model_name, return_dict=False)\n",
    "        \n",
    "        # Freeze bert layers\n",
    "        if freeze_bert:\n",
    "            for p in self.bert.parameters():\n",
    "                p.requires_grad = False\n",
    "                \n",
    "        self.bert_drop_1 = nn.Dropout(0.3)\n",
    "        self.fc = nn.Linear(self.bert.config.hidden_size, self.bert.config.hidden_size) # (768, 64)\n",
    "        self.bn = nn.BatchNorm1d(768) # (768)\n",
    "        self.bert_drop_2 = nn.Dropout(0.25)\n",
    "        self.out = nn.Linear(self.bert.config.hidden_size, n_classes) # (768,2)\n",
    "\n",
    "\n",
    "    def forward(self, input_ids, attention_mask, token_type_ids):\n",
    "        _, output = self.bert(\n",
    "            input_ids = input_ids,\n",
    "            attention_mask = attention_mask,\n",
    "            token_type_ids = token_type_ids\n",
    "        )\n",
    "        output = self.bert_drop_1(output)\n",
    "        output = self.fc(output)\n",
    "        output = self.bn(output)\n",
    "        output = self.bert_drop_2(output)\n",
    "        output = self.out(output)        \n",
    "        return output"
   ]
  },
  {
   "cell_type": "code",
   "execution_count": 14,
   "metadata": {},
   "outputs": [
    {
     "name": "stdout",
     "output_type": "stream",
     "text": [
      "Using device:  cuda:0\n"
     ]
    }
   ],
   "source": [
    "device = torch.device(\"cuda:0\" if torch.cuda.is_available() else \"cpu\")\n",
    "print(\"Using device: \", device)\n",
    "\n",
    "model = TransformerModel(data['VAP'].nunique(), freeze_bert=False)\n",
    "model.to(device)\n",
    "\n",
    "param_optimizer = list(model.named_parameters())\n",
    "no_decay = [\"bias\", \"LayerNorm.bias\", \"LayerNorm.weight\"]\n",
    "optimizer_parameters = [{'params': [p for n, p in param_optimizer \n",
    "                                    if not any(nd in n for nd in no_decay)],'weight_decay':0.001},\n",
    "                        {'params': [p for n, p in param_optimizer \n",
    "                                    if any(nd in n for nd in no_decay)],'weight_decay':0.0}]\n",
    "\n",
    "#optimizer \n",
    "optimizer = AdamW(optimizer_parameters, lr=learning_rate)\n",
    "steps = steps_per_epoch\n",
    "scheduler = get_linear_schedule_with_warmup(\n",
    "    optimizer,\n",
    "    num_warmup_steps = 3,\n",
    "    num_training_steps = steps\n",
    ")\n",
    "\n",
    "criteria = nn.CrossEntropyLoss()"
   ]
  },
  {
   "cell_type": "code",
   "execution_count": 15,
   "metadata": {},
   "outputs": [
    {
     "name": "stdout",
     "output_type": "stream",
     "text": [
      "----------\n"
     ]
    },
    {
     "name": "stderr",
     "output_type": "stream",
     "text": [
      "Epoch 1/10 Step 30/315 Loss 1.1546:  10%|▉         | 30/315 [00:08<01:24,  3.39it/s]\n"
     ]
    },
    {
     "ename": "KeyboardInterrupt",
     "evalue": "",
     "output_type": "error",
     "traceback": [
      "\u001b[0;31m---------------------------------------------------------------------------\u001b[0m",
      "\u001b[0;31mKeyboardInterrupt\u001b[0m                         Traceback (most recent call last)",
      "\u001b[1;32m/home/bratet/Workspace/VPA-Disease-Prediction-from-Medical-Record/test.ipynb Cell 15\u001b[0m line \u001b[0;36m3\n\u001b[1;32m     <a href='vscode-notebook-cell:/home/bratet/Workspace/VPA-Disease-Prediction-from-Medical-Record/test.ipynb#X20sZmlsZQ%3D%3D?line=28'>29</a>\u001b[0m loss\u001b[39m.\u001b[39mbackward()\n\u001b[1;32m     <a href='vscode-notebook-cell:/home/bratet/Workspace/VPA-Disease-Prediction-from-Medical-Record/test.ipynb#X20sZmlsZQ%3D%3D?line=30'>31</a>\u001b[0m torch\u001b[39m.\u001b[39mnn\u001b[39m.\u001b[39mutils\u001b[39m.\u001b[39mclip_grad_norm_(model\u001b[39m.\u001b[39mparameters(), \u001b[39m1.0\u001b[39m)\n\u001b[0;32m---> <a href='vscode-notebook-cell:/home/bratet/Workspace/VPA-Disease-Prediction-from-Medical-Record/test.ipynb#X20sZmlsZQ%3D%3D?line=32'>33</a>\u001b[0m optimizer\u001b[39m.\u001b[39;49mstep()\n\u001b[1;32m     <a href='vscode-notebook-cell:/home/bratet/Workspace/VPA-Disease-Prediction-from-Medical-Record/test.ipynb#X20sZmlsZQ%3D%3D?line=34'>35</a>\u001b[0m scheduler\u001b[39m.\u001b[39mstep()\n\u001b[1;32m     <a href='vscode-notebook-cell:/home/bratet/Workspace/VPA-Disease-Prediction-from-Medical-Record/test.ipynb#X20sZmlsZQ%3D%3D?line=36'>37</a>\u001b[0m outputs \u001b[39m=\u001b[39m outputs\u001b[39m.\u001b[39mdetach()\u001b[39m.\u001b[39mcpu()\u001b[39m.\u001b[39mnumpy()\n",
      "File \u001b[0;32m~/miniconda3/envs/pytorch/lib/python3.9/site-packages/torch/optim/lr_scheduler.py:68\u001b[0m, in \u001b[0;36mLRScheduler.__init__.<locals>.with_counter.<locals>.wrapper\u001b[0;34m(*args, **kwargs)\u001b[0m\n\u001b[1;32m     66\u001b[0m instance\u001b[39m.\u001b[39m_step_count \u001b[39m+\u001b[39m\u001b[39m=\u001b[39m \u001b[39m1\u001b[39m\n\u001b[1;32m     67\u001b[0m wrapped \u001b[39m=\u001b[39m func\u001b[39m.\u001b[39m\u001b[39m__get__\u001b[39m(instance, \u001b[39mcls\u001b[39m)\n\u001b[0;32m---> 68\u001b[0m \u001b[39mreturn\u001b[39;00m wrapped(\u001b[39m*\u001b[39;49margs, \u001b[39m*\u001b[39;49m\u001b[39m*\u001b[39;49mkwargs)\n",
      "File \u001b[0;32m~/miniconda3/envs/pytorch/lib/python3.9/site-packages/torch/optim/optimizer.py:373\u001b[0m, in \u001b[0;36mOptimizer.profile_hook_step.<locals>.wrapper\u001b[0;34m(*args, **kwargs)\u001b[0m\n\u001b[1;32m    368\u001b[0m         \u001b[39melse\u001b[39;00m:\n\u001b[1;32m    369\u001b[0m             \u001b[39mraise\u001b[39;00m \u001b[39mRuntimeError\u001b[39;00m(\n\u001b[1;32m    370\u001b[0m                 \u001b[39mf\u001b[39m\u001b[39m\"\u001b[39m\u001b[39m{\u001b[39;00mfunc\u001b[39m}\u001b[39;00m\u001b[39m must return None or a tuple of (new_args, new_kwargs), but got \u001b[39m\u001b[39m{\u001b[39;00mresult\u001b[39m}\u001b[39;00m\u001b[39m.\u001b[39m\u001b[39m\"\u001b[39m\n\u001b[1;32m    371\u001b[0m             )\n\u001b[0;32m--> 373\u001b[0m out \u001b[39m=\u001b[39m func(\u001b[39m*\u001b[39;49margs, \u001b[39m*\u001b[39;49m\u001b[39m*\u001b[39;49mkwargs)\n\u001b[1;32m    374\u001b[0m \u001b[39mself\u001b[39m\u001b[39m.\u001b[39m_optimizer_step_code()\n\u001b[1;32m    376\u001b[0m \u001b[39m# call optimizer step post hooks\u001b[39;00m\n",
      "File \u001b[0;32m~/miniconda3/envs/pytorch/lib/python3.9/site-packages/torch/utils/_contextlib.py:115\u001b[0m, in \u001b[0;36mcontext_decorator.<locals>.decorate_context\u001b[0;34m(*args, **kwargs)\u001b[0m\n\u001b[1;32m    112\u001b[0m \u001b[39m@functools\u001b[39m\u001b[39m.\u001b[39mwraps(func)\n\u001b[1;32m    113\u001b[0m \u001b[39mdef\u001b[39;00m \u001b[39mdecorate_context\u001b[39m(\u001b[39m*\u001b[39margs, \u001b[39m*\u001b[39m\u001b[39m*\u001b[39mkwargs):\n\u001b[1;32m    114\u001b[0m     \u001b[39mwith\u001b[39;00m ctx_factory():\n\u001b[0;32m--> 115\u001b[0m         \u001b[39mreturn\u001b[39;00m func(\u001b[39m*\u001b[39;49margs, \u001b[39m*\u001b[39;49m\u001b[39m*\u001b[39;49mkwargs)\n",
      "File \u001b[0;32m~/miniconda3/envs/pytorch/lib/python3.9/site-packages/transformers/optimization.py:466\u001b[0m, in \u001b[0;36mAdamW.step\u001b[0;34m(self, closure)\u001b[0m\n\u001b[1;32m    462\u001b[0m state[\u001b[39m\"\u001b[39m\u001b[39mstep\u001b[39m\u001b[39m\"\u001b[39m] \u001b[39m+\u001b[39m\u001b[39m=\u001b[39m \u001b[39m1\u001b[39m\n\u001b[1;32m    464\u001b[0m \u001b[39m# Decay the first and second moment running average coefficient\u001b[39;00m\n\u001b[1;32m    465\u001b[0m \u001b[39m# In-place operations to update the averages at the same time\u001b[39;00m\n\u001b[0;32m--> 466\u001b[0m exp_avg\u001b[39m.\u001b[39;49mmul_(beta1)\u001b[39m.\u001b[39madd_(grad, alpha\u001b[39m=\u001b[39m(\u001b[39m1.0\u001b[39m \u001b[39m-\u001b[39m beta1))\n\u001b[1;32m    467\u001b[0m exp_avg_sq\u001b[39m.\u001b[39mmul_(beta2)\u001b[39m.\u001b[39maddcmul_(grad, grad, value\u001b[39m=\u001b[39m\u001b[39m1.0\u001b[39m \u001b[39m-\u001b[39m beta2)\n\u001b[1;32m    468\u001b[0m denom \u001b[39m=\u001b[39m exp_avg_sq\u001b[39m.\u001b[39msqrt()\u001b[39m.\u001b[39madd_(group[\u001b[39m\"\u001b[39m\u001b[39meps\u001b[39m\u001b[39m\"\u001b[39m])\n",
      "\u001b[0;31mKeyboardInterrupt\u001b[0m: "
     ]
    }
   ],
   "source": [
    "total_loss = 0\n",
    "total_accuracy = 0\n",
    "total_f1 = 0\n",
    "\n",
    "for epoch in range(epochs):\n",
    "\n",
    "    print('-' * 10)\n",
    "    \n",
    "    model = model.train()\n",
    "    all_labels = []\n",
    "    all_predictions = []\n",
    "\n",
    "    progress_bar = tqdm(enumerate(train_loader), total=len(train_loader))\n",
    "    for step, batch in progress_bar:\n",
    "        batch = tuple(b.to(device) for b in batch)\n",
    "        \n",
    "        inputs = {'input_ids': batch[0],\n",
    "                  'attention_mask': batch[1],\n",
    "                  'token_type_ids': batch[2],\n",
    "                  'labels': batch[3]}\n",
    "        \n",
    "        model.zero_grad()\n",
    "        \n",
    "        outputs = model(inputs['input_ids'], inputs['attention_mask'], inputs['token_type_ids'])\n",
    "        \n",
    "        loss = criteria(outputs, inputs['labels'])\n",
    "        total_loss += loss.item()\n",
    "        \n",
    "        loss.backward()\n",
    "        \n",
    "        torch.nn.utils.clip_grad_norm_(model.parameters(), 1.0)\n",
    "        \n",
    "        optimizer.step()\n",
    "        \n",
    "        scheduler.step()\n",
    "        \n",
    "        outputs = outputs.detach().cpu().numpy()\n",
    "        labels = inputs['labels'].to('cpu').numpy()\n",
    "        predictions = np.argmax(outputs, axis=1)\n",
    "        all_labels.extend(labels)\n",
    "        all_predictions.extend(predictions)\n",
    "\n",
    "        progress_bar.set_description(f'Epoch {epoch + 1}/{epochs} Step {step+1}/{len(train_loader)} Loss {loss.item():.4f}')\n",
    "\n",
    "    avg_loss = total_loss / len(train_loader)\n",
    "    accuracy = accuracy_score(all_labels, all_predictions)\n",
    "    f1 = f1_score(all_labels, all_predictions, average='weighted')\n",
    "\n",
    "    print(f\"Training Loss: {avg_loss}\")\n",
    "    print(f\"Training Accuracy: {accuracy}\")\n",
    "    print(f\"Training F1 Score: {f1}\")\n",
    "    print('-' * 10)\n",
    "\n",
    "    # Reset total_loss for the next epoch\n",
    "    total_loss = 0"
   ]
  }
 ],
 "metadata": {
  "kernelspec": {
   "display_name": "pytorch",
   "language": "python",
   "name": "python3"
  },
  "language_info": {
   "codemirror_mode": {
    "name": "ipython",
    "version": 3
   },
   "file_extension": ".py",
   "mimetype": "text/x-python",
   "name": "python",
   "nbconvert_exporter": "python",
   "pygments_lexer": "ipython3",
   "version": "3.9.18"
  }
 },
 "nbformat": 4,
 "nbformat_minor": 2
}
