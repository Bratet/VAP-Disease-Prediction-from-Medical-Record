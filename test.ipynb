{
 "cells": [
  {
   "cell_type": "code",
   "execution_count": 1,
   "metadata": {},
   "outputs": [],
   "source": [
    "import warnings\n",
    "warnings.filterwarnings('ignore')"
   ]
  },
  {
   "cell_type": "code",
   "execution_count": 2,
   "metadata": {},
   "outputs": [],
   "source": [
    "import matplotlib.pyplot as plt\n",
    "import pandas as pd\n",
    "import numpy as np\n",
    "import seaborn as sns\n",
    "from tqdm import tqdm\n",
    "import re\n",
    "import torch\n",
    "import torch.nn as nn\n",
    "import torch.nn.functional as F\n",
    "from torch.utils.data import Dataset, DataLoader, WeightedRandomSampler\n",
    "import numpy as np\n",
    "import gensim\n",
    "import numpy as np\n",
    "from sklearn.model_selection import train_test_split"
   ]
  },
  {
   "cell_type": "code",
   "execution_count": 3,
   "metadata": {},
   "outputs": [],
   "source": [
    "df = pd.read_csv('data_m.csv', index_col=0)"
   ]
  },
  {
   "cell_type": "code",
   "execution_count": 4,
   "metadata": {},
   "outputs": [
    {
     "name": "stdout",
     "output_type": "stream",
     "text": [
      "<class 'pandas.core.frame.DataFrame'>\n",
      "Index: 3558 entries, 0 to 3557\n",
      "Data columns (total 2 columns):\n",
      " #   Column  Non-Null Count  Dtype \n",
      "---  ------  --------------  ----- \n",
      " 0   VAP     3558 non-null   int64 \n",
      " 1   TEXT    3558 non-null   object\n",
      "dtypes: int64(1), object(1)\n",
      "memory usage: 83.4+ KB\n"
     ]
    }
   ],
   "source": [
    "df.info()"
   ]
  },
  {
   "cell_type": "code",
   "execution_count": 5,
   "metadata": {},
   "outputs": [
    {
     "data": {
      "text/plain": [
       "<Axes: ylabel='count'>"
      ]
     },
     "execution_count": 5,
     "metadata": {},
     "output_type": "execute_result"
    },
    {
     "data": {
      "image/png": "[encoded data removed]",
      "text/plain": [
       "<Figure size 640x480 with 1 Axes>"
      ]
     },
     "metadata": {},
     "output_type": "display_data"
    }
   ],
   "source": [
    "# pie chart of Label\n",
    "df['VAP'].value_counts().plot.pie(autopct='%1.1f%%')\n"
   ]
  },
  {
   "cell_type": "code",
   "execution_count": 6,
   "metadata": {},
   "outputs": [
    {
     "name": "stderr",
     "output_type": "stream",
     "text": [
      "100%|██████████| 3558/3558 [00:14<00:00, 246.59it/s] \n"
     ]
    }
   ],
   "source": [
    "def parse_medical_records(text):\n",
    "\n",
    "    pattern = r'(\\[\\*\\*\\d{4}-\\d{1,2}-\\d{1,2}\\*\\*\\]\\s*\\d{1,2}:\\d{2}\\s*(AM|PM).*?(?=\\[\\*\\*\\d{4}-\\d{1,2}-\\d{1,2}\\*\\*\\]\\s*\\d{1,2}:\\d{2}\\s*(AM|PM)|$))'\n",
    "    reports = re.findall(pattern, text, re.DOTALL)\n",
    "\n",
    "    extracted_reports = []\n",
    "    seen_reports = set()\n",
    "\n",
    "    for report_tuple in reports:\n",
    "        report = report_tuple[0]  # Extract the report from the tuple\n",
    "\n",
    "        # Extracting various pieces of information using regular expressions\n",
    "        report_id = re.search(r'\\[\\*\\*(\\d{4}-\\d{1,2}-\\d{1,2})\\*\\*\\]', report)\n",
    "        type_of_exam = re.search(r'CHEST \\((.*?)\\)', report)\n",
    "        clip_number = re.search(r'Clip Number \\(Radiology\\) (\\d+)', report)\n",
    "        reason_for_exam = re.search(r'Reason: (.+)', report)\n",
    "        admitting_diagnosis = re.search(r'Admitting Diagnosis: (.+)', report)\n",
    "        medical_condition = re.search(r'MEDICAL CONDITION:\\n\\s+(.+)', report)\n",
    "        final_report = re.search(r'FINAL REPORT\\n\\s+(.+)', report, re.DOTALL)\n",
    "\n",
    "        # Building the report string\n",
    "        report_string = \"\"\n",
    "        if report_id:\n",
    "            report_string += f\"Report ID: {report_id.group(1)}\\n\"\n",
    "        if type_of_exam:\n",
    "            report_string += f\"Type of Exam: {type_of_exam.group(1)}\\n\"\n",
    "        if clip_number:\n",
    "            report_string += f\"Clip Number: {clip_number.group(1)}\\n\"\n",
    "        if reason_for_exam:\n",
    "            report_string += f\"Reason for Exam: {reason_for_exam.group(1)}\\n\"\n",
    "        if admitting_diagnosis:\n",
    "            report_string += f\"Admitting Diagnosis: {admitting_diagnosis.group(1)}\\n\"\n",
    "        if medical_condition:\n",
    "            report_string += f\"Medical Condition: {medical_condition.group(1)}\\n\"\n",
    "        if final_report:\n",
    "            report_string += f\"Final Report: {final_report.group(1)}\\n\"\n",
    "\n",
    "        report_string = report_string.strip()\n",
    "        \n",
    "        # Add report to the extracted reports if it's not a duplicate\n",
    "        if report_string not in seen_reports:\n",
    "            extracted_reports.append(report_string)\n",
    "            seen_reports.add(report_string)\n",
    "        \n",
    "    # concatenate all the reports into a single string\n",
    "    return \"\\n\\n\".join(extracted_reports)\n",
    "\n",
    "# apply the function to the TEXT column\n",
    "tqdm.pandas()\n",
    "df[\"Cleaned_TEXT\"] = df[\"TEXT\"].progress_apply(parse_medical_records)"
   ]
  },
  {
   "cell_type": "code",
   "execution_count": 7,
   "metadata": {},
   "outputs": [],
   "source": [
    "# remove rows with empty TEXT\n",
    "df = df[df[\"Cleaned_TEXT\"] != \"\"]"
   ]
  },
  {
   "cell_type": "code",
   "execution_count": 8,
   "metadata": {},
   "outputs": [
    {
     "name": "stdout",
     "output_type": "stream",
     "text": [
      "<class 'pandas.core.frame.DataFrame'>\n",
      "Index: 3304 entries, 0 to 3557\n",
      "Data columns (total 3 columns):\n",
      " #   Column        Non-Null Count  Dtype \n",
      "---  ------        --------------  ----- \n",
      " 0   VAP           3304 non-null   int64 \n",
      " 1   TEXT          3304 non-null   object\n",
      " 2   Cleaned_TEXT  3304 non-null   object\n",
      "dtypes: int64(1), object(2)\n",
      "memory usage: 103.2+ KB\n"
     ]
    }
   ],
   "source": [
    "df.info()"
   ]
  },
  {
   "cell_type": "code",
   "execution_count": 9,
   "metadata": {},
   "outputs": [
    {
     "name": "stderr",
     "output_type": "stream",
     "text": [
      "100%|██████████| 3304/3304 [00:03<00:00, 993.56it/s] \n"
     ]
    }
   ],
   "source": [
    "# import gensim.downloader as api\n",
    "# import numpy as np\n",
    "# import pandas as pd\n",
    "# from tqdm import tqdm\n",
    "\n",
    "# # Load a pre-trained word2vec model (this is just an example model)\n",
    "# embedder = api.load(\"glove-wiki-gigaword-100\")  # This model has 100-dimensional embeddings\n",
    "\n",
    "# def get_word_embeddings(sample):\n",
    "#     words = sample.split()\n",
    "#     embeddings = []\n",
    "#     for word in words:\n",
    "#         if word in embedder.key_to_index:\n",
    "#             embeddings.append(embedder[word])\n",
    "#         else:\n",
    "#             continue\n",
    "#     return np.array(embeddings)\n",
    "import gensim\n",
    "import numpy as np\n",
    "\n",
    "# Load your pre-trained word2vec model\n",
    "embedder = gensim.models.KeyedVectors.load_word2vec_format(\"pubmed_mesh_test.bin\", binary=True)\n",
    "\n",
    "def get_word_embeddings(sample):\n",
    "    words = sample.split()\n",
    "    # Create a list to hold embeddings\n",
    "    embeddings = []\n",
    "    for word in words:\n",
    "        if word in embedder.key_to_index:\n",
    "            # Add the word embedding to the list\n",
    "            embeddings.append(embedder[word])\n",
    "        else:\n",
    "            continue\n",
    "    return np.array(embeddings)\n",
    "\n",
    "tqdm.pandas()\n",
    "df[\"EMBEDDINGS\"] = df[\"Cleaned_TEXT\"].progress_apply(get_word_embeddings)"
   ]
  },
  {
   "cell_type": "code",
   "execution_count": 10,
   "metadata": {},
   "outputs": [],
   "source": [
    "# remove rows with empty EMBEDDINGS\n",
    "df = df[df[\"EMBEDDINGS\"].map(len) > 0]"
   ]
  },
  {
   "cell_type": "code",
   "execution_count": 11,
   "metadata": {},
   "outputs": [
    {
     "data": {
      "text/plain": [
       "EMBEDDINGS\n",
       "(121, 200)     14\n",
       "(302, 200)     13\n",
       "(142, 200)     12\n",
       "(62, 200)      12\n",
       "(54, 200)      10\n",
       "               ..\n",
       "(1347, 200)     1\n",
       "(1806, 200)     1\n",
       "(1926, 200)     1\n",
       "(3572, 200)     1\n",
       "(863, 200)      1\n",
       "Name: count, Length: 1505, dtype: int64"
      ]
     },
     "execution_count": 11,
     "metadata": {},
     "output_type": "execute_result"
    }
   ],
   "source": [
    "df[\"EMBEDDINGS\"].apply(lambda x: x.shape).value_counts()"
   ]
  },
  {
   "cell_type": "code",
   "execution_count": 12,
   "metadata": {},
   "outputs": [
    {
     "data": {
      "text/plain": [
       "<Axes: ylabel='count'>"
      ]
     },
     "execution_count": 12,
     "metadata": {},
     "output_type": "execute_result"
    },
    {
     "data": {
      "image/png": "[encoded data removed]",
      "text/plain": [
       "<Figure size 640x480 with 1 Axes>"
      ]
     },
     "metadata": {},
     "output_type": "display_data"
    }
   ],
   "source": [
    "# pie chart of Label\n",
    "df['VAP'].value_counts().plot.pie(autopct='%1.1f%%')"
   ]
  },
  {
   "cell_type": "code",
   "execution_count": 13,
   "metadata": {},
   "outputs": [],
   "source": [
    "from torch.nn.utils.rnn import pad_sequence\n",
    "\n",
    "class MedicalDataset(Dataset):\n",
    "    def __init__(self, embeddings, labels):\n",
    "        self.embeddings = embeddings\n",
    "        self.labels = labels\n",
    "\n",
    "    def __len__(self):\n",
    "        return len(self.labels)\n",
    "\n",
    "    def __getitem__(self, idx):\n",
    "        return self.embeddings[idx], self.labels[idx]\n",
    "\n",
    "    def collate_fn(batch):\n",
    "        # Separate the embeddings and labels\n",
    "        embeddings, labels = zip(*batch)\n",
    "\n",
    "        # Convert embeddings from numpy arrays to torch tensors\n",
    "        embeddings_tensor = [torch.tensor(e, dtype=torch.float32) for e in embeddings]\n",
    "\n",
    "        # Pad the embeddings to the same length\n",
    "        embeddings_padded = pad_sequence(embeddings_tensor, batch_first=True, padding_value=0)\n",
    "        labels_tensor = torch.tensor(labels, dtype=torch.long)\n",
    "\n",
    "        return embeddings_padded, labels_tensor\n",
    "\n",
    "    \n",
    "class Transformer(nn.Module):\n",
    "    def __init__(self, embedding_size, num_heads, num_classes, dim_feedforward=2048, num_layers=4, num_conv_layers=2, conv_kernel_size=3):\n",
    "        super(Transformer, self).__init__()\n",
    "\n",
    "        # Convolutional layers\n",
    "        self.conv_layers = nn.ModuleList([nn.Conv1d(in_channels=embedding_size, \n",
    "                                                    out_channels=embedding_size, \n",
    "                                                    kernel_size=conv_kernel_size, \n",
    "                                                    padding=conv_kernel_size // 2) for _ in range(num_conv_layers)])\n",
    "        \n",
    "        # Transformer encoder layers\n",
    "        self.transformer_encoder_layer = nn.TransformerEncoderLayer(\n",
    "            d_model=embedding_size, \n",
    "            nhead=num_heads, \n",
    "            dim_feedforward=dim_feedforward\n",
    "        )\n",
    "        self.transformer_encoder = nn.TransformerEncoder(self.transformer_encoder_layer, num_layers=num_layers)\n",
    "        \n",
    "        # Additional fully connected layers\n",
    "        self.fc1 = nn.Linear(embedding_size, embedding_size * 2)\n",
    "        self.fc2 = nn.Linear(embedding_size * 2, embedding_size)\n",
    "\n",
    "        # Final classifier layer\n",
    "        self.classifier = nn.Linear(embedding_size, num_classes)\n",
    "\n",
    "    def forward(self, x):\n",
    "        # Transpose x to match the input requirement of conv1d: [batch_size, channels, sequence_length]\n",
    "        x = x.transpose(1, 2)  # Transpose the dimensions to [batch_size, embedding_size, sequence_length]\n",
    "\n",
    "        # Pass through convolutional layers\n",
    "        for conv in self.conv_layers:\n",
    "            x = F.relu(conv(x))\n",
    "\n",
    "        # Transpose back to [batch_size, sequence_length, embedding_size] for the transformer encoder\n",
    "        x = x.transpose(1, 2)\n",
    "\n",
    "        # Pass through transformer encoder layers\n",
    "        x = self.transformer_encoder(x)\n",
    "        x = x.mean(dim=1)  # Aggregate over the sequence dimension\n",
    "\n",
    "        # Pass through fully connected layers\n",
    "        x = F.relu(self.fc1(x))\n",
    "        x = F.dropout(x, 0.2)  # Dropout for regularization\n",
    "        x = F.relu(self.fc2(x))\n",
    "\n",
    "        # Classification\n",
    "        return self.classifier(x)\n"
   ]
  },
  {
   "cell_type": "code",
   "execution_count": 14,
   "metadata": {},
   "outputs": [],
   "source": [
    "# Convert embeddings and labels to a suitable format\n",
    "embeddings = np.array(df['EMBEDDINGS'].values)\n",
    "labels = df['VAP'].values\n",
    "\n",
    "# Split data into training and validation sets (80-20 split)\n",
    "embeddings_train, embeddings_val, labels_train, labels_val = train_test_split(\n",
    "    embeddings, labels, test_size=0.2, random_state=42)\n",
    "\n",
    "# Create custom datasets for training and validation\n",
    "train_dataset = MedicalDataset(embeddings_train, labels_train)\n",
    "val_dataset = MedicalDataset(embeddings_val, labels_val)\n",
    "\n",
    "batch_size = 2\n",
    "\n",
    "train_loader = DataLoader(train_dataset, batch_size=batch_size, shuffle=True, collate_fn=MedicalDataset.collate_fn)\n",
    "val_loader = DataLoader(val_dataset, batch_size=batch_size, shuffle=False, collate_fn=MedicalDataset.collate_fn)"
   ]
  },
  {
   "cell_type": "code",
   "execution_count": 15,
   "metadata": {},
   "outputs": [
    {
     "name": "stderr",
     "output_type": "stream",
     "text": [
      "Training Epoch 0: 100%|██████████| 1314/1314 [00:50<00:00, 25.94it/s, loss=0.288]  \n",
      "Validating Epoch 0: 100%|██████████| 329/329 [00:03<00:00, 90.46it/s] \n"
     ]
    },
    {
     "name": "stdout",
     "output_type": "stream",
     "text": [
      "Epoch 0, Average Training Loss: 0.7056959074963071, Validation Accuracy: 0.832572298325723, Validation F1 Score: 0.756506722897293\n"
     ]
    },
    {
     "name": "stderr",
     "output_type": "stream",
     "text": [
      "Training Epoch 1: 100%|██████████| 1314/1314 [00:49<00:00, 26.63it/s, loss=0.34] \n",
      "Validating Epoch 1: 100%|██████████| 329/329 [00:03<00:00, 100.00it/s]\n"
     ]
    },
    {
     "name": "stdout",
     "output_type": "stream",
     "text": [
      "Epoch 1, Average Training Loss: 0.6151782478258309, Validation Accuracy: 0.832572298325723, Validation F1 Score: 0.756506722897293\n"
     ]
    },
    {
     "name": "stderr",
     "output_type": "stream",
     "text": [
      "Training Epoch 2:  92%|█████████▏| 1203/1314 [00:45<00:04, 26.42it/s, loss=1.11]    \n"
     ]
    },
    {
     "ename": "KeyboardInterrupt",
     "evalue": "",
     "output_type": "error",
     "traceback": [
      "\u001b[0;31m---------------------------------------------------------------------------\u001b[0m",
      "\u001b[0;31mKeyboardInterrupt\u001b[0m                         Traceback (most recent call last)",
      "\u001b[1;32m/home/bratet/Workspace/VPA-Disease-Prediction-from-Medical-Record/test.ipynb Cell 15\u001b[0m line \u001b[0;36m5\n\u001b[1;32m     <a href='vscode-notebook-cell:/home/bratet/Workspace/VPA-Disease-Prediction-from-Medical-Record/test.ipynb#X15sZmlsZQ%3D%3D?line=46'>47</a>\u001b[0m     loss\u001b[39m.\u001b[39mbackward()\n\u001b[1;32m     <a href='vscode-notebook-cell:/home/bratet/Workspace/VPA-Disease-Prediction-from-Medical-Record/test.ipynb#X15sZmlsZQ%3D%3D?line=47'>48</a>\u001b[0m     optimizer\u001b[39m.\u001b[39mstep()\n\u001b[0;32m---> <a href='vscode-notebook-cell:/home/bratet/Workspace/VPA-Disease-Prediction-from-Medical-Record/test.ipynb#X15sZmlsZQ%3D%3D?line=49'>50</a>\u001b[0m     total_loss \u001b[39m+\u001b[39m\u001b[39m=\u001b[39m loss\u001b[39m.\u001b[39;49mitem()\n\u001b[1;32m     <a href='vscode-notebook-cell:/home/bratet/Workspace/VPA-Disease-Prediction-from-Medical-Record/test.ipynb#X15sZmlsZQ%3D%3D?line=50'>51</a>\u001b[0m     train_bar\u001b[39m.\u001b[39mset_postfix(loss\u001b[39m=\u001b[39mloss\u001b[39m.\u001b[39mitem())\n\u001b[1;32m     <a href='vscode-notebook-cell:/home/bratet/Workspace/VPA-Disease-Prediction-from-Medical-Record/test.ipynb#X15sZmlsZQ%3D%3D?line=52'>53</a>\u001b[0m avg_loss \u001b[39m=\u001b[39m total_loss \u001b[39m/\u001b[39m \u001b[39mlen\u001b[39m(train_loader)\n",
      "\u001b[0;31mKeyboardInterrupt\u001b[0m: "
     ]
    }
   ],
   "source": [
    "embedding_size = embedder.vector_size  # Size of a single word embedding\n",
    "num_heads = 4  # Number of attention heads\n",
    "num_classes = 2  # Number of output classes\n",
    "num_layers = 4  # Number of transformer layers\n",
    "num_conv_layers = 2  # Number of convolutional layers\n",
    "model = Transformer(embedding_size, num_heads, num_classes, num_layers=num_layers, num_conv_layers=num_conv_layers)\n",
    "\n",
    "# Use GPU if available\n",
    "device = torch.device('cuda' if torch.cuda.is_available() else 'cpu')\n",
    "model.to(device)\n",
    "\n",
    "learning_rate = 0.01  \n",
    "weight_decay = 0.001  \n",
    "optimizer = torch.optim.Adam(model.parameters(), lr=learning_rate, weight_decay=weight_decay)\n",
    "\n",
    "from sklearn.utils.class_weight import compute_class_weight\n",
    "from sklearn.metrics import f1_score\n",
    "\n",
    "# 'labels' is an array of all the labels in your training dataset\n",
    "class_weights = compute_class_weight('balanced', classes=np.unique(labels_train), y=labels_train)\n",
    "class_weights = torch.tensor(class_weights, dtype=torch.float).to(device)\n",
    "\n",
    "\n",
    "num_epochs = 10\n",
    "\n",
    "# Training and Validation Loop\n",
    "train_losses = []\n",
    "val_accuracies = []\n",
    "val_f1_scores = []\n",
    "\n",
    "for epoch in range(num_epochs):  # number of epochs\n",
    "    model.train()  # Set the model to training mode\n",
    "    total_loss = 0\n",
    "    train_bar = tqdm(train_loader, desc=f\"Training Epoch {epoch}\")\n",
    "    \n",
    "    for embeddings_batch, labels_batch in train_bar:\n",
    "        # Data to device\n",
    "        embeddings_batch = embeddings_batch.to(device).float()\n",
    "        labels_batch = labels_batch.to(device).long()\n",
    "\n",
    "        # Forward pass and loss computation\n",
    "        outputs = model(embeddings_batch)\n",
    "        loss = F.cross_entropy(outputs, labels_batch, weight=class_weights)\n",
    "\n",
    "        # Backward pass and optimization\n",
    "        optimizer.zero_grad()\n",
    "        loss.backward()\n",
    "        optimizer.step()\n",
    "\n",
    "        total_loss += loss.item()\n",
    "        train_bar.set_postfix(loss=loss.item())\n",
    "\n",
    "    avg_loss = total_loss / len(train_loader)\n",
    "    train_losses.append(avg_loss)\n",
    "\n",
    "    # Validation\n",
    "    model.eval()  # Set the model to evaluation mode\n",
    "    correct = 0\n",
    "    total = 0\n",
    "    all_labels = []\n",
    "    all_predictions = []\n",
    "    val_bar = tqdm(val_loader, desc=f\"Validating Epoch {epoch}\")\n",
    "\n",
    "    with torch.no_grad():\n",
    "        for embeddings_batch, labels_batch in val_bar:\n",
    "            embeddings_batch = embeddings_batch.to(device).float()\n",
    "            labels_batch = labels_batch.to(device).long()\n",
    "\n",
    "            outputs = model(embeddings_batch)\n",
    "            _, predicted = torch.max(outputs.data, 1)\n",
    "\n",
    "            all_labels.extend(labels_batch.cpu().numpy())\n",
    "            all_predictions.extend(predicted.cpu().numpy())\n",
    "\n",
    "            correct += (predicted == labels_batch).sum().item()\n",
    "            total += labels_batch.size(0)\n",
    "\n",
    "    accuracy = correct / total\n",
    "    f1 = f1_score(all_labels, all_predictions, average='weighted')\n",
    "    val_accuracies.append(accuracy)\n",
    "    val_f1_scores.append(f1)\n",
    "\n",
    "    print(f\"Epoch {epoch}, Average Training Loss: {avg_loss}, Validation Accuracy: {accuracy}, Validation F1 Score: {f1}\")"
   ]
  }
 ],
 "metadata": {
  "kernelspec": {
   "display_name": "pytorch",
   "language": "python",
   "name": "python3"
  },
  "language_info": {
   "codemirror_mode": {
    "name": "ipython",
    "version": 3
   },
   "file_extension": ".py",
   "mimetype": "text/x-python",
   "name": "python",
   "nbconvert_exporter": "python",
   "pygments_lexer": "ipython3",
   "version": "3.9.18"
  }
 },
 "nbformat": 4,
 "nbformat_minor": 2
}
